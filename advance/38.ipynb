{
 "cells": [
  {
   "cell_type": "code",
   "execution_count": null,
   "metadata": {},
   "outputs": [],
   "source": []
  },
  {
   "cell_type": "markdown",
   "metadata": {},
   "source": [
    "# Chapter 38"
   ]
  },
  {
   "cell_type": "markdown",
   "metadata": {},
   "source": [
    "# Computer Vision Deployment I"
   ]
  },
  {
   "cell_type": "markdown",
   "metadata": {},
   "source": [
    "1. Introduction to Python web frameworks\n",
    "2. Introduction to Flask"
   ]
  },
  {
   "cell_type": "markdown",
   "metadata": {},
   "source": [
    "## Introduction to Python web frameworks\n"
   ]
  },
  {
   "cell_type": "markdown",
   "metadata": {},
   "source": [
    "Python has many web framework for managing web development. The python web framework can be categories into full-stack framework and no-stack or micro-framework.\n",
    "\n",
    "Full-stack framework include:  \n",
    "- django\n",
    "- cubicweb\n",
    "- Web2Py\n",
    "- Giotto\n",
    "- Pylons Framework\n",
    "- Pyramid\n",
    "- TurboGears\n",
    "\n",
    "Micro-framework include:  \n",
    "- **Flask**\n",
    "- Bottle\n",
    "- CherryPy\n",
    "- Dash\n",
    "- Falcon\n",
    "- Hug\n",
    "- MorePath\n",
    "- Pycnic\n",
    "\n",
    "For our computer-vision projects we will be making our models and functionality available online or ubiquitous by deploying using Flask a micro-framework"
   ]
  },
  {
   "cell_type": "markdown",
   "metadata": {},
   "source": [
    "\n",
    "## Introduction to Flask"
   ]
  },
  {
   "cell_type": "markdown",
   "metadata": {},
   "source": [
    "Learn more about Flask [https://flask.palletsprojects.com](https://flask.palletsprojects.com)"
   ]
  },
  {
   "cell_type": "markdown",
   "metadata": {},
   "source": [
    "### Create and activate a virtual environment.\n",
    "\n",
    "Environment Requirements are: \n",
    "\n",
    "- Python and OpenCV\n",
    "- NumPy\n",
    "- Matplotlib\n",
    "- Git \n",
    "- Flask\n",
    "- Keras\n",
    "- TensorFlow \n",
    "- Requests \n",
    "- Pillow \n"
   ]
  },
  {
   "cell_type": "markdown",
   "metadata": {},
   "source": [
    "PS C:\\github\\cv> cd .\\gokPrj\\\n",
    "PS C:\\github\\cv\\gokPrj> .\\env39\\Scripts\\activate     \n",
    "(env39) PS C:\\github\\cv\\gokPrj> pip install opencv-contrib-python\n",
    "(env39) PS C:\\github\\cv\\gokPrj> pip install opencv-contrib-python numpy matplotlib keras tensorflow        \n",
    "(env39) PS C:\\github\\cv\\gokPrj> pip install flask requests pillow \n",
    "(env39) PS C:\\github\\cv\\gokPrj>\n"
   ]
  },
  {
   "cell_type": "markdown",
   "metadata": {},
   "source": [
    "### Test installations"
   ]
  },
  {
   "cell_type": "code",
   "execution_count": 2,
   "metadata": {},
   "outputs": [
    {
     "data": {
      "text/plain": [
       "'2.0.2'"
      ]
     },
     "execution_count": 2,
     "metadata": {},
     "output_type": "execute_result"
    }
   ],
   "source": [
    "import flask\n",
    "flask.__version__"
   ]
  },
  {
   "cell_type": "code",
   "execution_count": 3,
   "metadata": {},
   "outputs": [
    {
     "data": {
      "text/plain": [
       "'2.7.0'"
      ]
     },
     "execution_count": 3,
     "metadata": {},
     "output_type": "execute_result"
    }
   ],
   "source": [
    "import tensorflow as tf\n",
    "tf.__version__"
   ]
  },
  {
   "cell_type": "code",
   "execution_count": 4,
   "metadata": {},
   "outputs": [
    {
     "data": {
      "text/plain": [
       "'2.7.0'"
      ]
     },
     "execution_count": 4,
     "metadata": {},
     "output_type": "execute_result"
    }
   ],
   "source": [
    "import keras\n",
    "\n",
    "keras.__version__"
   ]
  },
  {
   "cell_type": "code",
   "execution_count": 5,
   "metadata": {},
   "outputs": [
    {
     "data": {
      "text/plain": [
       "'2.26.0'"
      ]
     },
     "execution_count": 5,
     "metadata": {},
     "output_type": "execute_result"
    }
   ],
   "source": [
    "import requests\n",
    "requests.__version__"
   ]
  },
  {
   "cell_type": "code",
   "execution_count": 6,
   "metadata": {},
   "outputs": [
    {
     "data": {
      "text/plain": [
       "'8.4.0'"
      ]
     },
     "execution_count": 6,
     "metadata": {},
     "output_type": "execute_result"
    }
   ],
   "source": [
    "import PIL\n",
    "PIL.__version__"
   ]
  },
  {
   "cell_type": "markdown",
   "metadata": {},
   "source": [
    "### Flask 'Hello World'"
   ]
  },
  {
   "cell_type": "markdown",
   "metadata": {},
   "source": [
    "    from flask import Flask\n",
    "\n",
    "    app = Flask(__name__)\n",
    "\n",
    "    @app.route(\"/\")\n",
    "    def hello_world():\n",
    "        return \"<h1>Hello, World!</h1>\"\n",
    "\n",
    "\n",
    "    if __name__ == \"__main__\":\n",
    "        app.run()"
   ]
  },
  {
   "cell_type": "markdown",
   "metadata": {},
   "source": []
  },
  {
   "cell_type": "markdown",
   "metadata": {},
   "source": [
    "## Class Activity\n",
    "\n",
    "1. Create a route for subtract, multiply, divide and remainder for intergers\n",
    "   1. a - b = c\n",
    "   2. a / b = c\n",
    "   3. a * b = c\n",
    "   4. a % b = c"
   ]
  },
  {
   "cell_type": "markdown",
   "metadata": {},
   "source": []
  }
 ],
 "metadata": {
  "interpreter": {
   "hash": "19fe9178ab84f0131b91f73560357563b7351251bdf24ddc3bb5eeca25fe1f16"
  },
  "kernelspec": {
   "display_name": "Python 3.9.5 64-bit ('env39': venv)",
   "language": "python",
   "name": "python3"
  },
  "language_info": {
   "codemirror_mode": {
    "name": "ipython",
    "version": 3
   },
   "file_extension": ".py",
   "mimetype": "text/x-python",
   "name": "python",
   "nbconvert_exporter": "python",
   "pygments_lexer": "ipython3",
   "version": "3.9.5"
  },
  "orig_nbformat": 4
 },
 "nbformat": 4,
 "nbformat_minor": 2
}
