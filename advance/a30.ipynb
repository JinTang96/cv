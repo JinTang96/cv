# Assignment

1. Get a new dataset from azureen named master_dataset.zip
