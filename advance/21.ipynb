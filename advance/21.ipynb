{
 "cells": [
  {
   "cell_type": "code",
   "execution_count": null,
   "metadata": {},
   "outputs": [],
   "source": []
  },
  {
   "cell_type": "markdown",
   "metadata": {},
   "source": [
    "# Chapter 21"
   ]
  },
  {
   "cell_type": "markdown",
   "metadata": {},
   "source": [
    "# Advance Python Programming    \n"
   ]
  },
  {
   "cell_type": "markdown",
   "metadata": {},
   "source": [
    "1. Installation of Python Integrated development environment\n",
    "2. Virtual environment\n"
   ]
  },
  {
   "cell_type": "markdown",
   "metadata": {},
   "source": [
    "## Installation of Python Integrated development environment\n"
   ]
  },
  {
   "cell_type": "markdown",
   "metadata": {},
   "source": [
    "The following apps or software are needed for the adavance class.\n",
    "1. Python 3.9 from \n",
    "   1. [python.org](http://python.org) .  \n",
    "   2. [python 3.9 download page](https://www.python.org/downloads/release/python-398/)\n",
    "2. Visual studio code (or similar editor) \n",
    "   1. [visual studio code/](https://code.visualstudio.com/)  \n",
    "   2. [Download page](https://code.visualstudio.com/Download)\n",
    "\n"
   ]
  },
  {
   "cell_type": "markdown",
   "metadata": {},
   "source": [
    "## Use of the command window or Terminal"
   ]
  },
  {
   "cell_type": "markdown",
   "metadata": {},
   "source": [
    "1. Launch the command window or Terminal\n",
    "2. Verify the installed python version"
   ]
  },
  {
   "cell_type": "markdown",
   "metadata": {},
   "source": [
    "### Using the Python Interpreter (REPL)\n",
    "\n",
    "## Class Activity 21.1\n",
    "\n",
    "1. Use the python interpreter to find the root of a quadratic equation. \n",
    "$$\n",
    "\n",
    "ax^2 + bx + c = 0  \\\\ \n",
    "a=1, b=3, c=13\n",
    "\n",
    "$$\n",
    "        Formulae Solution\n",
    "$$\n",
    "\n",
    "x = \\frac{-b \\pm \\sqrt{b^2 - 4ac}}{2a}\n",
    "\n",
    "$$\n"
   ]
  },
  {
   "cell_type": "markdown",
   "metadata": {},
   "source": [
    "## Class Activity 21.2\n",
    "\n",
    "find the root of $ 13x^2 + x -13=0 $\n"
   ]
  },
  {
   "cell_type": "markdown",
   "metadata": {},
   "source": [
    "\n",
    "# Example 21.1\n",
    "2. Use the python interpreter to solve the following system of linear equation.   \n",
    "$$\n",
    "2x + y + z = 2 \\\\ \n",
    "x + y = 2 \\\\ \n",
    "y - 3z = 1\n",
    "$$\n",
    "\n"
   ]
  },
  {
   "cell_type": "markdown",
   "metadata": {},
   "source": [
    "# Example 21.1\n",
    "Using the python interpreter   \n",
    "\n",
    "3. Read and display an image using opencv. "
   ]
  },
  {
   "cell_type": "markdown",
   "metadata": {},
   "source": []
  },
  {
   "cell_type": "markdown",
   "metadata": {},
   "source": [
    "### Using Visual studio code (or alternative)\n",
    "\n",
    "1. Use the python interpreter to find the root of a quadratic equation. \n",
    "$$\n",
    "\n",
    "ax^2 + bx + c = 0  \n",
    "\n",
    "$$\n",
    "        Formulae Solution\n",
    "$$\n",
    "\n",
    "x = \\frac{-b \\pm \\sqrt{b^2 - 4ac}}{2ac}\n",
    "\n",
    "$$\n",
    "\n",
    "2. Use the python interpreter to solve the following system of linear equation.   \n",
    "$$\n",
    "2x + y + z = 2 \\\\ \n",
    "x + y = 2 \\\\ \n",
    "y - 3z = 1\n",
    "$$\n",
    "\n",
    "3. Read and display an image using opencv. "
   ]
  },
  {
   "cell_type": "markdown",
   "metadata": {},
   "source": [
    "## Virtual environment\n"
   ]
  },
  {
   "cell_type": "markdown",
   "metadata": {},
   "source": [
    "Many times python application will be developed and after a few months a new version of python and the pacjages used would be released.  \n",
    "\n",
    "If the appliaction need fixing due to any bug or a latest feature is to be added. The new python may break the entire application because function, module and packages may have changed.\n",
    "\n",
    "For example as at today (12-Nov-2021) tensorflow does not work with the latest python 3.10 but still work with version 3.9. \n",
    "\n",
    "The solution is to save in time the python and the packages used to successfully developed the application. And the beat tool is to create a virtual environment to manage the puyhon and the packages needed.\n",
    "\n"
   ]
  },
  {
   "cell_type": "markdown",
   "metadata": {},
   "source": [
    "### Creating Virtual Environment"
   ]
  },
  {
   "cell_type": "markdown",
   "metadata": {},
   "source": [
    "On Windows\n",
    "\n",
    "    python -m venv cv-env   \n",
    "    or\n",
    "    py -m venv cv-env   \n",
    "    or \n",
    "    py -3.8 -m venv cv-env   \n",
    "    py -3.9 -m venv cv-env   \n",
    "    py -3.10 -m venv cv-env   \n"
   ]
  },
  {
   "cell_type": "markdown",
   "metadata": {},
   "source": [
    "On Unix or MacOS\n",
    "\n",
    "    python3 -m venv cv-env   \n",
    "    or\n",
    "    python -m venv cv-env   \n"
   ]
  },
  {
   "cell_type": "code",
   "execution_count": null,
   "metadata": {},
   "outputs": [],
   "source": []
  },
  {
   "cell_type": "markdown",
   "metadata": {},
   "source": [
    "**cv-env** folder will be created in the current directory. "
   ]
  },
  {
   "cell_type": "markdown",
   "metadata": {},
   "source": [
    "### Activate Virtual Environment (cv-env)"
   ]
  },
  {
   "cell_type": "markdown",
   "metadata": {},
   "source": [
    "On Windows, run"
   ]
  },
  {
   "cell_type": "markdown",
   "metadata": {},
   "source": [
    "    cv-env\\Scripts\\activate"
   ]
  },
  {
   "cell_type": "markdown",
   "metadata": {},
   "source": [
    "On Unix or MacOS, run"
   ]
  },
  {
   "cell_type": "markdown",
   "metadata": {},
   "source": [
    "    source cv-env/bin/activate"
   ]
  },
  {
   "cell_type": "markdown",
   "metadata": {},
   "source": [
    "After activation, the command prompt will be prefixed with the name of the virtual environment."
   ]
  },
  {
   "cell_type": "markdown",
   "metadata": {},
   "source": [
    "![cv-env activated](assets/cv-env_activate.png \"c-env activated\")"
   ]
  },
  {
   "cell_type": "markdown",
   "metadata": {},
   "source": [
    "### Check the Python Version\n"
   ]
  },
  {
   "cell_type": "markdown",
   "metadata": {},
   "source": [
    "    python -V\n"
   ]
  },
  {
   "cell_type": "markdown",
   "metadata": {},
   "source": [
    "![cv-env deactivated](assets/cv-env_deactivate.png \"c-env deactivated\")"
   ]
  },
  {
   "cell_type": "markdown",
   "metadata": {},
   "source": [
    "### Virtual Environment Installed Packages"
   ]
  },
  {
   "cell_type": "markdown",
   "metadata": {},
   "source": [
    "    pip list"
   ]
  },
  {
   "cell_type": "markdown",
   "metadata": {},
   "source": [
    "![cv-env deactivated](assets/cv-env_deactivate.png \"c-env deactivated\")"
   ]
  },
  {
   "cell_type": "markdown",
   "metadata": {},
   "source": [
    "### Decativate Virtual Environment"
   ]
  },
  {
   "cell_type": "markdown",
   "metadata": {},
   "source": [
    "    deactivate\n",
    "    "
   ]
  },
  {
   "cell_type": "markdown",
   "metadata": {},
   "source": [
    "![cv-env deactivated](assets/cv-env_deactivate.png \"c-env deactivated\")"
   ]
  },
  {
   "cell_type": "markdown",
   "metadata": {},
   "source": [
    "### Install Packages into Virtual Environment "
   ]
  },
  {
   "cell_type": "markdown",
   "metadata": {},
   "source": [
    "Install the packages using pip.\n",
    "\n",
    "e.g \n",
    "\n",
    "    pip install opencv-contrib-python"
   ]
  },
  {
   "cell_type": "markdown",
   "metadata": {},
   "source": []
  }
 ],
 "metadata": {
  "kernelspec": {
   "display_name": "Python 3 (ipykernel)",
   "language": "python",
   "name": "python3"
  },
  "language_info": {
   "codemirror_mode": {
    "name": "ipython",
    "version": 3
   },
   "file_extension": ".py",
   "mimetype": "text/x-python",
   "name": "python",
   "nbconvert_exporter": "python",
   "pygments_lexer": "ipython3",
   "version": "3.10.0"
  }
 },
 "nbformat": 4,
 "nbformat_minor": 2
}
