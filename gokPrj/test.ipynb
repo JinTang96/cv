{
 "cells": [
  {
   "cell_type": "code",
   "execution_count": 1,
   "metadata": {},
   "outputs": [],
   "source": [
    "import mimetypes"
   ]
  },
  {
   "cell_type": "code",
   "execution_count": 9,
   "metadata": {},
   "outputs": [
    {
     "data": {
      "text/plain": [
       "'.tar.gz'"
      ]
     },
     "execution_count": 9,
     "metadata": {},
     "output_type": "execute_result"
    }
   ],
   "source": [
    "mimetypes.suffix_map['.tgz']"
   ]
  },
  {
   "cell_type": "code",
   "execution_count": 10,
   "metadata": {},
   "outputs": [
    {
     "ename": "KeyError",
     "evalue": "'.doc'",
     "output_type": "error",
     "traceback": [
      "\u001b[1;31m---------------------------------------------------------------------------\u001b[0m",
      "\u001b[1;31mKeyError\u001b[0m                                  Traceback (most recent call last)",
      "\u001b[1;32m~\\AppData\\Local\\Temp/ipykernel_19944/944854478.py\u001b[0m in \u001b[0;36m<module>\u001b[1;34m\u001b[0m\n\u001b[1;32m----> 1\u001b[1;33m \u001b[0mmimetypes\u001b[0m\u001b[1;33m.\u001b[0m\u001b[0msuffix_map\u001b[0m\u001b[1;33m[\u001b[0m\u001b[1;34m'.doc'\u001b[0m\u001b[1;33m]\u001b[0m\u001b[1;33m\u001b[0m\u001b[1;33m\u001b[0m\u001b[0m\n\u001b[0m",
      "\u001b[1;31mKeyError\u001b[0m: '.doc'"
     ]
    }
   ],
   "source": [
    "mimetypes.suffix_map['.doc']"
   ]
  },
  {
   "cell_type": "code",
   "execution_count": 20,
   "metadata": {},
   "outputs": [
    {
     "data": {
      "text/plain": [
       "('image/jpeg', None)"
      ]
     },
     "execution_count": 20,
     "metadata": {},
     "output_type": "execute_result"
    }
   ],
   "source": [
    "mimetypes.guess_type('x.jpeg')"
   ]
  },
  {
   "cell_type": "code",
   "execution_count": 19,
   "metadata": {},
   "outputs": [
    {
     "data": {
      "text/plain": [
       "['.jpg', '.jpe', '.jpeg', '.jfif']"
      ]
     },
     "execution_count": 19,
     "metadata": {},
     "output_type": "execute_result"
    }
   ],
   "source": [
    "mimetypes.guess_all_extensions(mimetypes.guess_type('x.jpg')[0])"
   ]
  },
  {
   "cell_type": "code",
   "execution_count": 24,
   "metadata": {},
   "outputs": [
    {
     "ename": "KeyError",
     "evalue": "'.JPEG'",
     "output_type": "error",
     "traceback": [
      "\u001b[1;31m---------------------------------------------------------------------------\u001b[0m",
      "\u001b[1;31mKeyError\u001b[0m                                  Traceback (most recent call last)",
      "\u001b[1;32m~\\AppData\\Local\\Temp/ipykernel_19944/3762651308.py\u001b[0m in \u001b[0;36m<module>\u001b[1;34m\u001b[0m\n\u001b[1;32m----> 1\u001b[1;33m \u001b[0mmimetypes\u001b[0m\u001b[1;33m.\u001b[0m\u001b[0mtypes_map\u001b[0m\u001b[1;33m[\u001b[0m\u001b[1;34m'.JPEG'\u001b[0m\u001b[1;33m]\u001b[0m\u001b[1;33m\u001b[0m\u001b[1;33m\u001b[0m\u001b[0m\n\u001b[0m",
      "\u001b[1;31mKeyError\u001b[0m: '.JPEG'"
     ]
    }
   ],
   "source": [
    "mimetypes.types_map['.JPEG']\n"
   ]
  },
  {
   "cell_type": "code",
   "execution_count": 25,
   "metadata": {},
   "outputs": [],
   "source": [
    "import os\n",
    "from werkzeug.utils import secure_filename\n",
    "from flask import Flask, flash, request, redirect, url_for\n",
    "from PIL import Image\n",
    "import io\n",
    "import base64\n",
    "import mimetypes\n",
    "from flask import Flask, request, make_response, jsonify, render_template, redirect, url_for\n",
    "import numpy as np\n",
    "import cv2 as cv\n"
   ]
  },
  {
   "cell_type": "code",
   "execution_count": 32,
   "metadata": {},
   "outputs": [],
   "source": [
    "filePath = r'C:\\github\\cv\\samples\\data\\face.JPG'\n",
    "\n",
    "img = cv.imread(filePath)\n"
   ]
  },
  {
   "cell_type": "code",
   "execution_count": 33,
   "metadata": {},
   "outputs": [
    {
     "data": {
      "text/plain": [
       "'C:\\\\github\\\\cv\\\\samples\\\\data\\\\face.JPG'"
      ]
     },
     "execution_count": 33,
     "metadata": {},
     "output_type": "execute_result"
    }
   ],
   "source": [
    "filePath"
   ]
  },
  {
   "cell_type": "code",
   "execution_count": 38,
   "metadata": {},
   "outputs": [
    {
     "name": "stdout",
     "output_type": "stream",
     "text": [
      "('C:\\\\github\\\\cv\\\\samples\\\\data\\\\face', '.JPG')\n"
     ]
    },
    {
     "data": {
      "text/plain": [
       "'.jpeg'"
      ]
     },
     "execution_count": 38,
     "metadata": {},
     "output_type": "execute_result"
    }
   ],
   "source": [
    "root, ext = os.path.splitext(filePath)\n",
    "print((root, ext))\n",
    "ext = ext.lower()\n",
    "ext = '.jpeg' if ext == '.jpg' else ext\n",
    "\n",
    "ext"
   ]
  },
  {
   "cell_type": "code",
   "execution_count": 49,
   "metadata": {},
   "outputs": [
    {
     "name": "stdout",
     "output_type": "stream",
     "text": [
      "jpeg\n"
     ]
    },
    {
     "data": {
      "text/plain": [
       "19272"
      ]
     },
     "execution_count": 49,
     "metadata": {},
     "output_type": "execute_result"
    }
   ],
   "source": [
    "\n",
    "# transform to base64 url\n",
    "imgRGB = img[:,:,::-1]\n",
    "imgPIL = Image.fromarray(imgRGB)\n",
    "buff = io.BytesIO()\n",
    "\n",
    "imgFormat = ext[1:]\n",
    "print(imgFormat)\n",
    "                \n",
    "imgPIL.save(buff, format=imgFormat)\n",
    "imgBase64 = base64.b64encode(buff.getvalue()).decode(\"utf-8\")\n",
    "\n",
    "len(imgBase64)\n"
   ]
  },
  {
   "cell_type": "code",
   "execution_count": 60,
   "metadata": {},
   "outputs": [
    {
     "data": {
      "text/plain": [
       "44216"
      ]
     },
     "execution_count": 60,
     "metadata": {},
     "output_type": "execute_result"
    }
   ],
   "source": [
    "\n",
    "retval, buffer = cv.imencode(ext, img)\n",
    "\n",
    "imgBase64_2 = base64.b64encode(buffer).decode(\"utf-8\")\n",
    "\n",
    "len(imgBase64_2)"
   ]
  }
 ],
 "metadata": {
  "interpreter": {
   "hash": "19fe9178ab84f0131b91f73560357563b7351251bdf24ddc3bb5eeca25fe1f16"
  },
  "kernelspec": {
   "display_name": "Python 3.9.5 64-bit ('env39': venv)",
   "language": "python",
   "name": "python3"
  },
  "language_info": {
   "codemirror_mode": {
    "name": "ipython",
    "version": 3
   },
   "file_extension": ".py",
   "mimetype": "text/x-python",
   "name": "python",
   "nbconvert_exporter": "python",
   "pygments_lexer": "ipython3",
   "version": "3.9.5"
  },
  "orig_nbformat": 4
 },
 "nbformat": 4,
 "nbformat_minor": 2
}
