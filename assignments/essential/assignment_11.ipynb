{
 "cells": [
  {
   "cell_type": "markdown",
   "metadata": {},
   "source": [
    "# Assignment\n",
    "\n",
    "1. Create a video and attach border of diffrent colour.\n",
    "2. Save the video\n",
    "3. Create a video player that can play any video file pass to it from any command line"
   ]
  },
  {
   "cell_type": "code",
   "execution_count": 1,
   "metadata": {},
   "outputs": [
    {
     "name": "stdout",
     "output_type": "stream",
     "text": [
      "Turning the camera on..\n",
      "Turning off the camera..\n"
     ]
    }
   ],
   "source": [
    "import cv2 as cv\n",
    "\n",
    "# Question 01 & Question 02\n",
    "\n",
    "# Capture video \n",
    "capture = cv.VideoCapture(0)\n",
    "\n",
    "# Check camera connection\n",
    "if capture.isOpened() is False:\n",
    "    print(\"Error opening camera 0.\")\n",
    "    exit()\n",
    "\n",
    "else:\n",
    "    print(\"Turning the camera on..\")\n",
    "\n",
    "# Define the codec and create VideoWriter object\n",
    "fourcc = cv.VideoWriter_fourcc(*'XVID')\n",
    "video_out = cv.VideoWriter('cam_out.avi', fourcc, 10.0, (640,  480))\n",
    "\n",
    "while capture.isOpened():\n",
    "    # Capture frames\n",
    "    ret, frame = capture.read()\n",
    "    \n",
    "    # Stop loop if no frame return\n",
    "    if not ret:\n",
    "        print(\"No frame is returned, stop looping.\")\n",
    "        break\n",
    "    else:\n",
    "        None\n",
    "\n",
    "    # Mirror the frame\n",
    "    frame = cv.flip(frame, 1)\n",
    "        \n",
    "    # Create an outer border for the video\n",
    "    frame[:20,:] = [0, 255, 255] # Top border\n",
    "    frame[-20:,:] = [0, 255, 255] # Bottom border\n",
    "    frame[20:,:20] = [0, 128, 255] # Left border\n",
    "    frame[:,-20:] = [0, 128, 255] # Right border\n",
    "\n",
    "    # Write the frame\n",
    "    video_out.write(frame)\n",
    "    \n",
    "    # Display frame of the camera\n",
    "    cv.imshow(\"Webcam\", frame)\n",
    "\n",
    "    k = cv.waitKey(1)  # frame to frame delay for 1 second\n",
    "    \n",
    "    # Exit when 'z' key is pressed\n",
    "    if k == ord(\"z\"):\n",
    "        print(\"Turning off the camera..\")\n",
    "        break\n",
    "    else:\n",
    "        None\n",
    "else:\n",
    "    print(\"Please reconnect the camera.\")\n",
    "\n",
    "# Close the video\n",
    "capture.release()\n",
    "video_out.release()\n",
    "cv.destroyAllWindows()"
   ]
  },
  {
   "cell_type": "code",
   "execution_count": null,
   "metadata": {},
   "outputs": [],
   "source": []
  }
 ],
 "metadata": {
  "interpreter": {
   "hash": "df2462d2ff66c23763f4c9137a40f16005cf639a5d787d29a393c601591853f3"
  },
  "kernelspec": {
   "display_name": "Python 3.8.10 64-bit",
   "language": "python",
   "name": "python3"
  },
  "language_info": {
   "codemirror_mode": {
    "name": "ipython",
    "version": 3
   },
   "file_extension": ".py",
   "mimetype": "text/x-python",
   "name": "python",
   "nbconvert_exporter": "python",
   "pygments_lexer": "ipython3",
   "version": "3.8.10"
  },
  "orig_nbformat": 4
 },
 "nbformat": 4,
 "nbformat_minor": 2
}
