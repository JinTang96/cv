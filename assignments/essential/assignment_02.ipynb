{
 "cells": [
  {
   "cell_type": "markdown",
   "metadata": {},
   "source": [
    "### This assignment is correspond to a02 and extra exercises. \n",
    "\n",
    "1. Collect the name, year of birth and salary of a user. Then output the following : \n",
    "\n",
    "-   \"Goodday {name}!, your year of birth is {year of birth} and your age in the year 2030 will be {Age}. From your salary of {salary} the computed tax of 12.3% is {tax}.\n",
    "\n",
    "2. Collect a list of names and scores and find the average of the scores.\n",
    "\n",
    "3. Use python to write an application letter for job to Perantis apply text wrap with line width of 50.  \n"
   ]
  },
  {
   "cell_type": "code",
   "execution_count": 1,
   "metadata": {},
   "outputs": [
    {
     "name": "stdout",
     "output_type": "stream",
     "text": [
      "\n",
      "Good day a! Your year of birth is 1996 and your age in the year 2030 will be 34.\n",
      "From your salary of RM 2500.00 the computed tax of 12.3% is RM 307.50.\n"
     ]
    }
   ],
   "source": [
    "# 1. Collect the name, year of birth and salary of a user. Then output the following : \n",
    "# \"Goodday {name}!, your year of birth is {year of birth} and your age in the year 2030 \n",
    "# will be {Age}. From your salary of {salary} the computed tax of 12.3% is {tax}.\"\n",
    "\n",
    "# Check integer is positive, negative or zero\n",
    "def check_integer_type(int):\n",
    "    if int < 0:\n",
    "        int_type = \"negative\"\n",
    "    elif int > 0:\n",
    "        int_type = \"positive\"\n",
    "    else:\n",
    "        int_type = \"zero\"\n",
    "    return int_type\n",
    "\n",
    "# Collect user input of NAME\n",
    "while True:\n",
    "    try:\n",
    "        name = str(input(\"Please enter your NAME: \"))\n",
    "        if name.isalpha() == True:\n",
    "            None\n",
    "        else:\n",
    "            print(\"Please insert your name only in alphabet letters (E.g.) jincheng. \")\n",
    "            continue\n",
    "\n",
    "    except:\n",
    "        print(\"Please insert your name only in alphabet letters without space (E.g.) jincheng. \")\n",
    "        continue\n",
    "    else:\n",
    "        break\n",
    "\n",
    "# Collect user input of YEAR OF BIRTH\n",
    "while True:\n",
    "    try:\n",
    "        yob = int(input(\"Please enter your YEAR OF BIRTH: \"))\n",
    "\n",
    "        if(check_integer_type(yob)) == \"positive\":\n",
    "            None\n",
    "        else:\n",
    "            (\"Please insert a valid year or birth (E.g.) 1998\")\n",
    "            continue\n",
    "\n",
    "    except: \n",
    "        print(\"Please insert a valid year or birth (E.g.) 1998\")\n",
    "        continue\n",
    "    else:\n",
    "        break\n",
    "\n",
    "# Collect user input of SALARY\n",
    "while True:\n",
    "    try:\n",
    "        salary = float(input(\"Please enter your SALARY (RM): RM \"))\n",
    "\n",
    "        if(check_integer_type(salary)) != \"negative\":\n",
    "            None\n",
    "        else:\n",
    "            (\"Please insert a valid salary (E.g.) 2500\")\n",
    "            continue\n",
    "    \n",
    "    except:\n",
    "        print(\"Please insert a valid salary (E.g.) 2500 \")\n",
    "        continue\n",
    "    else:\n",
    "        break\n",
    "\n",
    "\n",
    "# Calculate age in year 2030\n",
    "age = (2030 - yob)\n",
    "\n",
    "# Compute the tax of the salary\n",
    "tax = 0.123 * salary\n",
    "\n",
    "print(f\"\\nGood day {name}! Your year of birth is {yob} and your age in the year 2030 will be {age}.\\nFrom your salary of RM {salary:.2f} the computed tax of 12.3% is RM {tax:.2f}.\")\n"
   ]
  },
  {
   "cell_type": "code",
   "execution_count": 1,
   "metadata": {},
   "outputs": [
    {
     "name": "stdout",
     "output_type": "stream",
     "text": [
      "a\tc\n",
      "50.0\t80.5\n",
      "\n",
      "The average score for the students is: 65.25\n"
     ]
    }
   ],
   "source": [
    "# 2. Collect a list of names and scores and find the average of the scores.\n",
    "\n",
    "# Create empty list\n",
    "name_list = []\n",
    "score_list = []\n",
    "counter = 1\n",
    "\n",
    "# Check integer is positive, negative or zero\n",
    "def check_integer_type(int):\n",
    "    if int < 0:\n",
    "        int_type = \"negative\"\n",
    "    elif int > 0:\n",
    "        int_type = \"positive\"\n",
    "    else:\n",
    "        int_type = \"zero\"\n",
    "    return int_type\n",
    "\n",
    "# Prompt user for the number of person\n",
    "while True:\n",
    "    try:\n",
    "        student_num = int(input(\"How many students are there: \"))\n",
    "        if(check_integer_type(student_num)) == \"positive\":\n",
    "            None\n",
    "        else:\n",
    "            print(\"Please insert a valid number of students (E.g.) 5 \")\n",
    "            continue\n",
    "    except:\n",
    "        print(\"Please insert a valid number of students (E.g.) 5\")\n",
    "        continue\n",
    "    else:\n",
    "        break\n",
    "\n",
    "\n",
    "# Collect input of names and scores from user\n",
    "for student in range(student_num):\n",
    "    \n",
    "    while True:\n",
    "        try:\n",
    "            # Append the valid inputs of name into the empty name list\n",
    "            name = str(input(f\"Enter the name of person {counter}: \"))\n",
    "            if name.isalpha() == True:\n",
    "                name_list.append(name)\n",
    "            else:\n",
    "                print(\"Please insert your name only in alphabet letters (E.g.) jincheng. \")\n",
    "                continue\n",
    "        except:\n",
    "            print(\"Please insert your name only in alphabet letters without space (E.g.) jincheng. \")\n",
    "            continue\n",
    "        else:\n",
    "            break\n",
    "    \n",
    "    while True:\n",
    "        try:\n",
    "            # Append the valid inputs of score into the empty score list\n",
    "            score = float(input(f\"Enter the score of {name} (0-100): \"))\n",
    "            if score <= 100 and score >= 0:\n",
    "                score_list.append(score)\n",
    "            else:\n",
    "                print(\"Please insert a valid score (E.g.) 80.5. \")\n",
    "                continue\n",
    "        except:\n",
    "            print(\"Please insert a valid score (E.g.) 80.5. \")\n",
    "            continue\n",
    "        else:\n",
    "            break\n",
    "\n",
    "    counter += 1\n",
    "\n",
    "# Print the student list with names and scores\n",
    "print(\"\\t\".join(name_list))\n",
    "score_list_in_str = map(str,score_list) # Convert integer list to string list\n",
    "print(\"\\t\".join(score_list_in_str))\n",
    "\n",
    "# Compute the average score of the students\n",
    "average = sum(score_list) / student_num\n",
    "\n",
    "# Print average score\n",
    "print(f\"\\nThe average score for the students is: {average:.2f}\")"
   ]
  },
  {
   "cell_type": "code",
   "execution_count": null,
   "metadata": {},
   "outputs": [
    {
     "name": "stdout",
     "output_type": "stream",
     "text": [
      "Tang Jin Cheng \n",
      "Taman Bangi Indah, \n",
      "43000 Kajang, \n",
      "Selangor.\n",
      "\n",
      "Perantis Iskandar | Educity\n",
      "79200 Iskandar Puteri,\n",
      "Johor Darul Ta'zim.\n",
      "\n",
      "Hi, my name is Tang Jin Cheng. I was excited to\n",
      "enroll in the Iskandar Perantis training program\n",
      "as I will be able to expose myself to the\n",
      "knowledge of image processing and artificial\n",
      "intelligence. Definitely it will be an honor for\n",
      "me to start my career as an AI developer.\n",
      "\n",
      "\n",
      "I graduated as a Bachelor of Mechatronics\n",
      "Engineering. I started my exposure in machine\n",
      "learning in the final year project, whereby I\n",
      "attempted to help the patient who cannot move\n",
      "their arm according to their will. I classified\n",
      "the winking brain signals using various machine\n",
      "learning models so that the best models can be\n",
      "adapted to the devices.Due to my interest in\n",
      "artificial intelligence systems, I am furthering\n",
      "my Master's degree and getting involved in the\n",
      "research of using deep learning-based object\n",
      "detection algorithms in the application of human\n",
      "presence detection.At the same time, I had taken\n",
      "part in a university-industry collaboration for\n",
      "one year as a postgraduate researcher.\n",
      "\n",
      "\n",
      "Even though I do not have a strong background in\n",
      "computer science as others do, I am willing to\n",
      "explore and expand my knowledge and skills towards\n",
      "programming as well as deep learning. Here I\n",
      "attach the curriculum vitae and the job\n",
      "application form for the job. Look forward to\n",
      "discussing the AI developer position and my\n",
      "qualifications in more detail.\n",
      "\n",
      "\n",
      "Thank you so much for your time and consideration.\n",
      "I sincerely appreciate it.\n",
      "\n",
      "\n",
      "Sincerely,\n",
      "Tang Jin Cheng\n"
     ]
    }
   ],
   "source": [
    "# 3. Use python to write an application letter for job to Perantis apply text wrap with line width of 50.\n",
    "\n",
    "import textwrap\n",
    "\n",
    "print(\"Tang Jin Cheng \\\n",
    "\\nTaman Bangi Indah, \\\n",
    "\\n43000 Kajang, \\\n",
    "\\nSelangor.\\n\")\n",
    "\n",
    "print(\"Perantis Iskandar | Educity\\\n",
    "\\n79200 Iskandar Puteri,\\\n",
    "\\nJohor Darul Ta'zim.\\n\")\n",
    "\n",
    "print(textwrap.fill('''Hi, my name is Tang Jin Cheng. I was excited to enroll in the Iskandar Perantis training program as I will be able to expose myself to the knowledge of image processing and \\\n",
    "artificial intelligence. Definitely it will be an honor for me to start my career as an AI developer.''', 50))\n",
    "\n",
    "print(\"\\n\")\n",
    "\n",
    "print(textwrap.fill('''I graduated as a Bachelor of Mechatronics Engineering. I started my exposure in machine learning in the final year project, whereby I attempted to help the patient who cannot move their \\\n",
    "arm according to their will. I classified the winking brain signals using various machine learning models so that the best models can be adapted to the devices.\\\n",
    "Due to my interest in artificial intelligence systems, I am furthering my Master's degree and getting involved in the research of using deep learning-based \\\n",
    "object detection algorithms in the application of human presence detection.\\\n",
    "At the same time, I had taken part in a university-industry collaboration for one year as a postgraduate researcher.''', 50))\n",
    "\n",
    "print(\"\\n\")\n",
    "\n",
    "print(textwrap.fill('''Even though I do not have a strong background in computer science as others do, I am willing to explore and expand my knowledge and skills towards programming as well as deep learning. \\\n",
    "Here I attach the curriculum vitae and the job application form for the job. Look forward to discussing the AI developer position and my qualifications in more detail.''', 50))\n",
    "\n",
    "print(\"\\n\")\n",
    "\n",
    "print(textwrap.fill('''Thank you so much for your time and consideration. I sincerely appreciate it.''', 50))\n",
    "\n",
    "print(\"\\n\")\n",
    "\n",
    "print(\"Sincerely,\\\n",
    "\\nTang Jin Cheng\")"
   ]
  },
  {
   "cell_type": "markdown",
   "metadata": {},
   "source": [
    "### 5.3 String Methods and Functions (Page 73 - 84)\n",
    "\n",
    "Write your practice codes in a python notebook or Python file and upload them to your GitHub account as assignment 2 in addition to the exercise. "
   ]
  },
  {
   "cell_type": "code",
   "execution_count": null,
   "metadata": {},
   "outputs": [
    {
     "name": "stdout",
     "output_type": "stream",
     "text": [
      "This is string example....wow!!!\n"
     ]
    }
   ],
   "source": [
    "# Page 73 - capitalize()\n",
    "# Capitalize the first character of each sentence\n",
    "\n",
    "str1 = \"this is string example....wow!!!\"\n",
    "print (str1.capitalize())"
   ]
  },
  {
   "cell_type": "code",
   "execution_count": null,
   "metadata": {},
   "outputs": [
    {
     "name": "stdout",
     "output_type": "stream",
     "text": [
      "aaathis is string examples....wow!!!aaaa\n"
     ]
    }
   ],
   "source": [
    "# Page 73 - center()\n",
    "# Center the string and filling up both sides with a single character\n",
    "\n",
    "str1 = \"this is string examples....wow!!!\"\n",
    "print (str1.center(40, 'a'))"
   ]
  },
  {
   "cell_type": "code",
   "execution_count": null,
   "metadata": {},
   "outputs": [
    {
     "name": "stdout",
     "output_type": "stream",
     "text": [
      "str1.count(sub, 4, 40) :  2\n",
      "str1.count(sub) :  1\n"
     ]
    }
   ],
   "source": [
    "# Page 73 - count()\n",
    "# Count the number of occurence of a substring in the given string\n",
    "\n",
    "str1 = \"this is string example....wow!!!\"\n",
    "sub = \"i\"\n",
    "print (\"str1.count(sub, 4, 40) : \", str1.count(sub, 4, 40))\n",
    "\n",
    "sub = \"wow\";\n",
    "print (\"str1.count(sub) : \", str1.count(sub))"
   ]
  },
  {
   "cell_type": "code",
   "execution_count": null,
   "metadata": {},
   "outputs": [
    {
     "name": "stdout",
     "output_type": "stream",
     "text": [
      "<class 'bytes'>\n",
      "b'D\\xc3\\xbcsseldorf'\n",
      "<class 'str'>\n",
      "Düsseldorf\n"
     ]
    }
   ],
   "source": [
    "# PAGE 74 - encode(), decode()\n",
    "# Byte decode and string encode\n",
    "\n",
    "# Encode string into bytes\n",
    "city = \"Düsseldorf\"\n",
    "utf8_encoded = city.encode('utf-8')\n",
    "print(type(utf8_encoded)) # bytes\n",
    "print(utf8_encoded) # b'D\\xc3\\xbcsseldorf'\n",
    "\n",
    "# Decode bytes into string\n",
    "decoded_city = utf8_encoded.decode('utf-8')\n",
    "print(type(decoded_city)) # str\n",
    "print(decoded_city) # Düsseldorf"
   ]
  },
  {
   "cell_type": "code",
   "execution_count": null,
   "metadata": {},
   "outputs": [
    {
     "name": "stdout",
     "output_type": "stream",
     "text": [
      "True\n",
      "True\n",
      "True\n",
      "False\n"
     ]
    }
   ],
   "source": [
    "# Page 74 - endswith()\n",
    "# Return True when string ends with the specified suffix\n",
    "\n",
    "str1 = \"this is string example....wow!!!\"\n",
    "suffix = \"wow!!!\"\n",
    "print (str1.endswith(suffix))\n",
    "print (str1.endswith(suffix,20))\n",
    "\n",
    "suffix = \"is\"\n",
    "print (str1.endswith(suffix, 0, 4))\n",
    "print (str1.endswith(suffix, 2, 6))"
   ]
  },
  {
   "cell_type": "code",
   "execution_count": null,
   "metadata": {},
   "outputs": [
    {
     "name": "stdout",
     "output_type": "stream",
     "text": [
      "Original string: this is\tstring example....wow!!!\n",
      "Default expanded tab: this is string example....wow!!!\n",
      "Double expanded tab: this is         string example....wow!!!\n"
     ]
    }
   ],
   "source": [
    "# PAGE 75 - expandtabs()\n",
    "# Set tab sizes to a specified number of spaces\n",
    "\n",
    "str1 = \"this is\\tstring example....wow!!!\"\n",
    "print (\"Original string: \" + str1)\n",
    "print (\"Default expanded tab: \" + str1.expandtabs())\n",
    "print (\"Double expanded tab: \" + str1.expandtabs(16))\n",
    "\n",
    "# own testing\n",
    "# print (\"Original string: \" + str1)\n",
    "# print (\"Default expanded tab: \" + str1.expandtabs())\n",
    "# for i in range(30):\n",
    "#     print (f\"{i}\" + str1.expandtabs(i))\n",
    "# Conclusion: the whitespace increase start from 8 onwards proportionally"
   ]
  },
  {
   "cell_type": "code",
   "execution_count": null,
   "metadata": {},
   "outputs": [
    {
     "name": "stdout",
     "output_type": "stream",
     "text": [
      "15\n",
      "15\n",
      "-1\n"
     ]
    }
   ],
   "source": [
    "# Page 75 - find()\n",
    "# Return the lowest index of the specified substring inside the string\n",
    "# If not found, return -1\n",
    "\n",
    "str1 = \"this is string example....wow!!!\"\n",
    "str2 = \"exam\"\n",
    "print (str1.find(str2))\n",
    "print (str1.find(str2, 10))\n",
    "print (str1.find(str2, 40))"
   ]
  },
  {
   "cell_type": "code",
   "execution_count": null,
   "metadata": {},
   "outputs": [
    {
     "name": "stdout",
     "output_type": "stream",
     "text": [
      "15\n",
      "15\n"
     ]
    }
   ],
   "source": [
    "# Page 75 - index()\n",
    "# Return the lowest index of the specified substring inside the string\n",
    "# If not found, it raises an exception\n",
    "\n",
    "str1 = \"this is string example....wow!!!\"\n",
    "str2 = \"exam\"\n",
    "print (str1.index(str2))\n",
    "print (str1.index(str2, 10))\n",
    "# print (str1.index(str2, 40))  ValueError "
   ]
  },
  {
   "cell_type": "code",
   "execution_count": null,
   "metadata": {},
   "outputs": [
    {
     "name": "stdout",
     "output_type": "stream",
     "text": [
      "True\n",
      "False\n"
     ]
    }
   ],
   "source": [
    "# Page 76 - isalnum()\n",
    "# Return true if string are all alphabet letters and numbers\n",
    "\n",
    "str1 = \"this2009\"; # Space is neither alphabet nor numbers\n",
    "print (str1.isalnum())\n",
    "str1 = \"this is string example....wow!!!\"\n",
    "print (str1.isalnum())"
   ]
  },
  {
   "cell_type": "code",
   "execution_count": null,
   "metadata": {},
   "outputs": [
    {
     "name": "stdout",
     "output_type": "stream",
     "text": [
      "False\n",
      "False\n"
     ]
    }
   ],
   "source": [
    "# Page 76 - isalpha()\n",
    "# Return true if string are all alphabet letters\n",
    "\n",
    "str1 = \"this2009\"; # No space in this string\n",
    "print (str1.isalpha())\n",
    "str2 = \"this is string example....wow!!!\"\n",
    "print (str2.isalpha())"
   ]
  },
  {
   "cell_type": "code",
   "execution_count": null,
   "metadata": {},
   "outputs": [
    {
     "name": "stdout",
     "output_type": "stream",
     "text": [
      "True\n",
      "False\n"
     ]
    }
   ],
   "source": [
    "# Page 76 - isdigit()\n",
    "# Return true if string are all numbers\n",
    "\n",
    "str1 = \"123456\" # Only digit in this string\n",
    "print (str1.isdigit())\n",
    "str2 = \"this is string example....wow!!!\"\n",
    "print (str2.isdigit())"
   ]
  },
  {
   "cell_type": "code",
   "execution_count": null,
   "metadata": {},
   "outputs": [
    {
     "name": "stdout",
     "output_type": "stream",
     "text": [
      "False\n",
      "True\n"
     ]
    }
   ],
   "source": [
    "# Page 77 - islower()\n",
    "# Return true if characters are in lower case\n",
    "# Only alphabet characters are checked, all others are not checked\n",
    "\n",
    "str1 = \"THIS is string example....wow!!!\"\n",
    "print (str1.islower())\n",
    "str2 = \"this is string example....wow!!!\"\n",
    "print (str2.islower())"
   ]
  },
  {
   "cell_type": "code",
   "execution_count": null,
   "metadata": {},
   "outputs": [
    {
     "name": "stdout",
     "output_type": "stream",
     "text": [
      "False\n",
      "23443434\n",
      "True\n"
     ]
    }
   ],
   "source": [
    "# Page 77 - isnumeric()\n",
    "# Return true if string are all numeric characters (digit is subset of numeric )\n",
    "# Numeric include integers, fractions, subscript, superscript, roman numerals, etc.(all written in Unicode)\n",
    "\n",
    "str1 = u\"this2009\"\n",
    "print (str1.isnumeric())\n",
    "str2 = u\"23443434\"\n",
    "print (str2.isnumeric())"
   ]
  },
  {
   "cell_type": "code",
   "execution_count": null,
   "metadata": {},
   "outputs": [
    {
     "name": "stdout",
     "output_type": "stream",
     "text": [
      "True\n",
      "False\n"
     ]
    }
   ],
   "source": [
    "# Page 77 - isspace()\n",
    "# Return true if string are all white spaces (including tabs \"\\t\" and new lines \"n\")\n",
    "\n",
    "str1 = \" \"\n",
    "print (str1.isspace())\n",
    "str2 = \"This is string example....wow!!!\"\n",
    "print (str2.isspace())"
   ]
  },
  {
   "cell_type": "code",
   "execution_count": null,
   "metadata": {},
   "outputs": [
    {
     "name": "stdout",
     "output_type": "stream",
     "text": [
      "True\n",
      "False\n"
     ]
    }
   ],
   "source": [
    "# Page 77 - istitle()\n",
    "# Return true if string starts with upper case and the rests are all lower case\n",
    "\n",
    "str1 = \"This Is String Example...Wow!!!\"\n",
    "print (str1.istitle())\n",
    "str2 = \"This is string example....wow!!!\"\n",
    "print (str2.istitle())"
   ]
  },
  {
   "cell_type": "code",
   "execution_count": null,
   "metadata": {},
   "outputs": [
    {
     "name": "stdout",
     "output_type": "stream",
     "text": [
      "True\n",
      "False\n"
     ]
    }
   ],
   "source": [
    "# PAGE 78 - isupper()\n",
    "# Return true if string are all upper case\n",
    "\n",
    "str1 = \"THIS IS STRING EXAMPLE....WOW!!!\"\n",
    "print (str1.isupper())\n",
    "str2 = \"THIS is string example....wow!!!\"\n",
    "print (str2.isupper())"
   ]
  },
  {
   "cell_type": "code",
   "execution_count": null,
   "metadata": {},
   "outputs": [
    {
     "name": "stdout",
     "output_type": "stream",
     "text": [
      "a-b-c\n"
     ]
    }
   ],
   "source": [
    "# Page 78 - join()\n",
    "# Join the elements of sequence by a str separator\n",
    "\n",
    "s = \"-\"\n",
    "seq = (\"a\", \"b\", \"c\"); # This is sequence of strings.\n",
    "print (s.join( seq ))"
   ]
  },
  {
   "cell_type": "code",
   "execution_count": null,
   "metadata": {},
   "outputs": [
    {
     "name": "stdout",
     "output_type": "stream",
     "text": [
      "Length of the string:  32\n"
     ]
    }
   ],
   "source": [
    "# Page 78 - len()\n",
    "# Obtain the length of the string\n",
    "\n",
    "str1 = \"this is string example....wow!!!\"\n",
    "print (\"Length of the string: \", len(str1))"
   ]
  },
  {
   "cell_type": "code",
   "execution_count": null,
   "metadata": {},
   "outputs": [
    {
     "name": "stdout",
     "output_type": "stream",
     "text": [
      "this is string example....wow!!!000000000000000000\n"
     ]
    }
   ],
   "source": [
    "# Page 78 - ljust()\n",
    "# Left align the string and fill the space with specified character\n",
    "\n",
    "str1 = \"this is string example....wow!!!\"\n",
    "print (str1.ljust(50, '0'))"
   ]
  },
  {
   "cell_type": "code",
   "execution_count": null,
   "metadata": {},
   "outputs": [
    {
     "name": "stdout",
     "output_type": "stream",
     "text": [
      "this is string example....wow!!!\n"
     ]
    }
   ],
   "source": [
    "# Page 79 - lower()\n",
    "# Lower case the alphabet letter in string\n",
    "\n",
    "str1 = \"THIS IS STRING EXAMPLE....WOW!!!\"\n",
    "print (str1.lower())"
   ]
  },
  {
   "cell_type": "code",
   "execution_count": null,
   "metadata": {},
   "outputs": [
    {
     "name": "stdout",
     "output_type": "stream",
     "text": [
      "this is string example....wow!!! \n",
      "this is string example....wow!!!8888888\n"
     ]
    }
   ],
   "source": [
    "# Page 79 - lstrip()\n",
    "# Remove specified characters from the left\n",
    "\n",
    "str1 = \" this is string example....wow!!! \"\n",
    "print (str1.lstrip())\n",
    "str2 = \"88888888this is string example....wow!!!8888888\"\n",
    "print (str2.lstrip('8'))"
   ]
  },
  {
   "cell_type": "code",
   "execution_count": null,
   "metadata": {},
   "outputs": [
    {
     "name": "stdout",
     "output_type": "stream",
     "text": [
      "th3s 3s str3ng 2x1mpl2....w4w!!!\n"
     ]
    }
   ],
   "source": [
    "# Page 79 - maketrans(), translate()\n",
    "# maketrans() map the translation while translate() execute the translation by maketrans mapping\n",
    "\n",
    "intab = \"aeiou\"\n",
    "outtab = \"12345\"\n",
    "trantab = str.maketrans(intab, outtab)\n",
    "str1 = \"this is string example....wow!!!\"\n",
    "print (str1.translate(trantab))"
   ]
  },
  {
   "cell_type": "code",
   "execution_count": null,
   "metadata": {},
   "outputs": [
    {
     "name": "stdout",
     "output_type": "stream",
     "text": [
      "Max character: y\n",
      "Max character: x\n"
     ]
    }
   ],
   "source": [
    "# Page 79 - max()\n",
    "# Return the highest alphabetical character of the string\n",
    "\n",
    "str1 = \"this is really a string example....wow!!!\"\n",
    "print (\"Max character: \" + max(str1))\n",
    "str2 = \"this is a string example....wow!!!\"\n",
    "print (\"Max character: \" + max(str2))"
   ]
  },
  {
   "cell_type": "code",
   "execution_count": null,
   "metadata": {},
   "outputs": [
    {
     "name": "stdout",
     "output_type": "stream",
     "text": [
      "Min character: !\n",
      "Min character: !\n"
     ]
    }
   ],
   "source": [
    "# Page 80 - min()\n",
    "# Return the lowest alphabetical character of the string\n",
    "\n",
    "str1 = \"this-is-real-string-example....wow!!!!\"\n",
    "print (\"Min character: \" + min(str1))\n",
    "str2 = \"this-is-a-string-example....wow!!!\"\n",
    "print (\"Min character: \" + min(str2))"
   ]
  },
  {
   "cell_type": "code",
   "execution_count": null,
   "metadata": {},
   "outputs": [
    {
     "name": "stdout",
     "output_type": "stream",
     "text": [
      "thwas was string example....wow!!! thwas was really string\n",
      "thwas was string example....wow!!! thwas is really string\n"
     ]
    }
   ],
   "source": [
    "# Page 80 - replace()\n",
    "# Replace the specified substring with specified substring for n times\n",
    "\n",
    "str1 = \"this is string example....wow!!! this is really string\"\n",
    "print (str1.replace(\"is\", \"was\"))\n",
    "print (str1.replace(\"is\", \"was\", 3))"
   ]
  },
  {
   "cell_type": "code",
   "execution_count": null,
   "metadata": {},
   "outputs": [
    {
     "name": "stdout",
     "output_type": "stream",
     "text": [
      "5\n",
      "5\n",
      "-1\n",
      "2\n",
      "2\n",
      "-1\n"
     ]
    }
   ],
   "source": [
    "# Page 80 - rfind() \n",
    "# Return the position of last occurence in the string while find() return the first occurence\n",
    "# find() and rfind() return -1 when not found\n",
    "\n",
    "str1 = \"this is really a string example....wow!!!\"\n",
    "str2 = \"is\"\n",
    "print (str1.rfind(str2))\n",
    "print (str1.rfind(str2, 0, 10))\n",
    "print (str1.rfind(str2, 10, 0))\n",
    "print (str1.find(str2))\n",
    "print (str1.find(str2, 0, 10))\n",
    "print (str1.find(str2, 10, 0))"
   ]
  },
  {
   "cell_type": "code",
   "execution_count": null,
   "metadata": {},
   "outputs": [
    {
     "name": "stdout",
     "output_type": "stream",
     "text": [
      "5\n",
      "2\n"
     ]
    }
   ],
   "source": [
    "# Page 81 - rindex()\n",
    "# Return the position of last occurence in the string while index() return the first occurence\n",
    "# index() and rindex() return raises an exception when not found\n",
    "\n",
    "str1 = \"this is string example....wow!!!\"\n",
    "str2 = \"is\"\n",
    "print (str1.rindex(str2))\n",
    "print (str1.index(str2))"
   ]
  },
  {
   "cell_type": "code",
   "execution_count": null,
   "metadata": {},
   "outputs": [
    {
     "name": "stdout",
     "output_type": "stream",
     "text": [
      "000000000000000000this is string example....wow!!!\n"
     ]
    }
   ],
   "source": [
    "# Page 81 - rjust()\n",
    "# Align string to the right and fill up speficied character on the left\n",
    "\n",
    "str1 = \"this is string example....wow!!!\"\n",
    "print (str1.rjust(50, '0'))"
   ]
  },
  {
   "cell_type": "code",
   "execution_count": null,
   "metadata": {},
   "outputs": [
    {
     "name": "stdout",
     "output_type": "stream",
     "text": [
      " this is string example....wow!!!\n",
      "88888888this is string example....wow!!!\n"
     ]
    }
   ],
   "source": [
    "# Page 81 - rstrip()\n",
    "# Remove specified characters from the right\n",
    "\n",
    "str1 = \" this is string example....wow!!! \"\n",
    "print (str1.rstrip())\n",
    "str2 = \"88888888this is string example....wow!!!8888888\";\n",
    "print (str2.rstrip('8'))"
   ]
  },
  {
   "cell_type": "code",
   "execution_count": null,
   "metadata": {},
   "outputs": [
    {
     "name": "stdout",
     "output_type": "stream",
     "text": [
      "['Line1-abcdef', 'Line2-abc', 'Line4-abcd']\n",
      "['Line1-abcdef', '\\nLine2-abc \\nLine4-abcd']\n"
     ]
    }
   ],
   "source": [
    "# Page 81 - split()\n",
    "# Split string into list of strings by a specified separator\n",
    "\n",
    "str1 = \"Line1-abcdef \\nLine2-abc \\nLine4-abcd\"\n",
    "print (str1.split( ))\n",
    "print (str1.split(' ', 1 ))"
   ]
  },
  {
   "cell_type": "code",
   "execution_count": null,
   "metadata": {},
   "outputs": [
    {
     "name": "stdout",
     "output_type": "stream",
     "text": [
      "['Line1-a b c d e f', 'Line2- a b c', '', 'Line4- a b c d']\n",
      "['Line1-a b c d e f', 'Line2- a b c', '', 'Line4- a b c d']\n",
      "['Line1-a b c d e f\\n', 'Line2- a b c\\n', '\\n', 'Line4- a b c d']\n",
      "['Line1-a b c d e f\\n', 'Line2- a b c\\n', '\\n', 'Line4- a b c d']\n",
      "['Line1-a b c d e f\\n', 'Line2- a b c\\n', '\\n', 'Line4- a b c d']\n"
     ]
    }
   ],
   "source": [
    "# Page 82 - splitlines()\n",
    "# Split string by line boundaries include \\n, \\r, \\r\\n, \\x1c, \\x1d, \\x1e, \\x85, \\v or \\x0b, \\f or \\x0c, \\u2028, \\u2029\n",
    "\n",
    "str1 = \"Line1-a b c d e f\\nLine2- a b c\\n\\nLine4- a b c d\"\n",
    "print (str1.splitlines( ))\n",
    "print (str1.splitlines( 0 ))\n",
    "print (str1.splitlines( 3 ))\n",
    "print (str1.splitlines( 4 ))\n",
    "print (str1.splitlines( 5 ))"
   ]
  },
  {
   "cell_type": "code",
   "execution_count": null,
   "metadata": {},
   "outputs": [
    {
     "name": "stdout",
     "output_type": "stream",
     "text": [
      "True\n",
      "True\n",
      "False\n"
     ]
    }
   ],
   "source": [
    "# Page 82 - startswith()\n",
    "# Return true if string starts with the given prefix\n",
    "\n",
    "str1 = \"this is string example....wow!!!\"\n",
    "print (str1.startswith( 'this' ))\n",
    "print (str1.startswith( 'is', 2, 4 ))\n",
    "print (str1.startswith( 'this', 2, 4 ))"
   ]
  },
  {
   "cell_type": "code",
   "execution_count": null,
   "metadata": {},
   "outputs": [
    {
     "name": "stdout",
     "output_type": "stream",
     "text": [
      "this is string example....wow!!!\n"
     ]
    }
   ],
   "source": [
    "# Page 82 - strip()\n",
    "# Remove specified characters from both sides\\\n",
    "\n",
    "str1 = \"0000000this is string example....wow!!!0000000\"\n",
    "print (str1.strip( '0' ))"
   ]
  },
  {
   "cell_type": "code",
   "execution_count": null,
   "metadata": {},
   "outputs": [
    {
     "name": "stdout",
     "output_type": "stream",
     "text": [
      "THIS IS STRING EXAMPLE....WOW!!!\n",
      "this is string example....wow!!!\n"
     ]
    }
   ],
   "source": [
    "# Page 83 - swapcase()\n",
    "# Swap from lower case to upper case and vice versa\n",
    "\n",
    "str1 = \"this is string example....wow!!!\"\n",
    "print (str1.swapcase())\n",
    "str1 = \"THIS IS STRING EXAMPLE....WOW!!!\"\n",
    "print (str1.swapcase())"
   ]
  },
  {
   "cell_type": "code",
   "execution_count": null,
   "metadata": {},
   "outputs": [
    {
     "name": "stdout",
     "output_type": "stream",
     "text": [
      "This Is String Example....Wow!!!\n"
     ]
    }
   ],
   "source": [
    "# Page 83 - title()\n",
    "# Convert the first character in each word to upper case and the rests character to lower case\n",
    "\n",
    "str1 = \"this is string example....wow!!!\"\n",
    "print (str1.title())"
   ]
  },
  {
   "cell_type": "code",
   "execution_count": null,
   "metadata": {},
   "outputs": [
    {
     "name": "stdout",
     "output_type": "stream",
     "text": [
      "th3s 3s str3ng 2x1mpl2....w4w!!!\n",
      "88888888th3s 3s str3ng 21pl2....w4w!!!8888888\n"
     ]
    }
   ],
   "source": [
    "# Page 83 - translate()\n",
    "# Can refer to maketrans() and translate()\n",
    "\n",
    "intab = \"aeiou\"\n",
    "outtab = \"12345\"\n",
    "str1 = \"this is string example....wow!!!\"\n",
    "trantab = str.maketrans(intab, outtab)\n",
    "print (str1.translate(trantab))\n",
    "\n",
    "trantab = str.maketrans(intab, outtab, 'xm')\n",
    "print (str2.translate(trantab))"
   ]
  },
  {
   "cell_type": "code",
   "execution_count": null,
   "metadata": {},
   "outputs": [
    {
     "name": "stdout",
     "output_type": "stream",
     "text": [
      "str1.capitalize() :  THIS IS STRING EXAMPLE....WOW!!!\n"
     ]
    }
   ],
   "source": [
    "# Page 83 - upper()\n",
    "# Convert all lower case characters in the string into upper case\n",
    "\n",
    "str1 = \"this is string example....wow!!!\"\n",
    "print (\"str1.capitalize() : \", str1.upper())"
   ]
  },
  {
   "cell_type": "code",
   "execution_count": null,
   "metadata": {},
   "outputs": [
    {
     "name": "stdout",
     "output_type": "stream",
     "text": [
      "00000000this is string example....wow!!!\n",
      "000000000000000000this is string example....wow!!!\n"
     ]
    }
   ],
   "source": [
    "# Page 84 - zfill()\n",
    "# Fill up zero from the left up to the specified length\n",
    "\n",
    "str1 = \"this is string example....wow!!!\"\n",
    "print (str1.zfill(40))\n",
    "print (str1.zfill(50))"
   ]
  },
  {
   "cell_type": "code",
   "execution_count": null,
   "metadata": {},
   "outputs": [
    {
     "name": "stdout",
     "output_type": "stream",
     "text": [
      "False\n",
      "True\n"
     ]
    }
   ],
   "source": [
    "# Page 84 - isdecimal()\n",
    "# Return true if all characters in the string are decimals\n",
    "\n",
    "str1 = u\"this2009\"\n",
    "print (str1.isdecimal())\n",
    "str2 = u\"23443434\"\n",
    "print (str2.isdecimal())"
   ]
  }
 ],
 "metadata": {
  "interpreter": {
   "hash": "5b84b3b12e548dba9b9d18e6c672712305720b850822670c063dc894011d2bb2"
  },
  "kernelspec": {
   "display_name": "Python 3.9.9 64-bit",
   "language": "python",
   "name": "python3"
  },
  "language_info": {
   "codemirror_mode": {
    "name": "ipython",
    "version": 3
   },
   "file_extension": ".py",
   "mimetype": "text/x-python",
   "name": "python",
   "nbconvert_exporter": "python",
   "pygments_lexer": "ipython3",
   "version": "3.9.9"
  },
  "orig_nbformat": 4
 },
 "nbformat": 4,
 "nbformat_minor": 2
}
