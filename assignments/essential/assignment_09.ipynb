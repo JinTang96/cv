{
 "cells": [
  {
   "cell_type": "markdown",
   "metadata": {},
   "source": [
    "# Assignmnent\n",
    "\n",
    "1. Create a random array a, of shape (6x6) using randint and seed 2.\n",
    "2. Convert the array a, to an identity matrix I. \n",
    "\n",
    "$$\n",
    "I = \n",
    "\\begin{bmatrix}\n",
    "    1 & 0 & 0 & 0 & 0 & 0  \\\\  \n",
    "    0 & 1 & 0 & 0 & 0 & 0  \\\\  \n",
    "    0 & 0 & 1 & 0 & 0 & 0  \\\\  \n",
    "    0 & 0 & 0 & 1 & 0 & 0  \\\\  \n",
    "    0 & 0 & 0 & 0 & 1 & 0  \\\\  \n",
    "    0 & 0 & 0 & 0 & 0 & 1  \\\\  \n",
    "\\end{bmatrix}\n",
    "$$"
   ]
  },
  {
   "cell_type": "code",
   "execution_count": 25,
   "metadata": {},
   "outputs": [
    {
     "name": "stdout",
     "output_type": "stream",
     "text": [
      "A :\n",
      "  [[168  15 237  72  22  43]\n",
      " [210  75 104   7 162 177]\n",
      " [ 95  75 213  47  63  31]\n",
      " [218 148 124 116  37 167]\n",
      " [195 102   4 170 107  51]\n",
      " [103  38 234  33  58 124]]\n",
      "\n",
      "Inverse of matrix A : \n",
      "  [[ 7.95123333e-03  4.19991509e-03 -9.34339134e-04  1.96100012e-03\n",
      "  -2.66691178e-03 -1.00628872e-02]\n",
      " [-5.49186329e-03  7.55932378e-06  1.09626666e-02  5.97698097e-03\n",
      "  -3.32182147e-03 -7.53043121e-03]\n",
      " [ 6.14287358e-04 -1.17379557e-03  2.62325818e-03 -8.01201875e-04\n",
      "  -8.22068385e-04  2.22381174e-03]\n",
      " [-2.14088679e-03 -6.23835322e-03 -5.13050077e-03 -2.19696163e-03\n",
      "   7.89804016e-03  1.06401994e-02]\n",
      " [-4.18255457e-03  2.71646076e-03  2.88993486e-03 -6.56440328e-03\n",
      "   4.60254549e-03  3.79817613e-03]\n",
      " [-3.55477452e-03 -8.86285593e-04 -7.52013315e-03  1.70651672e-03\n",
      "   5.29856190e-04  9.92613729e-03]]\n",
      "\n",
      "I :\n",
      "  [[1 0 0 0 0 0]\n",
      " [0 1 0 0 0 0]\n",
      " [0 0 1 0 0 0]\n",
      " [0 0 0 1 0 0]\n",
      " [0 0 0 0 1 0]\n",
      " [0 0 0 0 0 1]]\n"
     ]
    }
   ],
   "source": [
    "# Question 01\n",
    "import numpy as np\n",
    "import matplotlib.pyplot as plt\n",
    "\n",
    "np.random.seed(2)\n",
    "A = np.random.randint(0, 255, (6, 6))\n",
    "print(\"A :\\n \", A)\n",
    "\n",
    "# Question 02\n",
    "inverse_A = np.linalg.inv(A)\n",
    "print(\"\\nInverse of matrix A : \\n \", inverse_A)\n",
    "\n",
    "# Convert A to I by A * A-1\n",
    "A = A @ inverse_A\n",
    "A = np.round(A).astype(int)\n",
    "print(\"\\nI :\\n \", A)"
   ]
  },
  {
   "cell_type": "code",
   "execution_count": null,
   "metadata": {},
   "outputs": [],
   "source": []
  }
 ],
 "metadata": {
  "interpreter": {
   "hash": "df2462d2ff66c23763f4c9137a40f16005cf639a5d787d29a393c601591853f3"
  },
  "kernelspec": {
   "display_name": "Python 3.8.10 64-bit",
   "language": "python",
   "name": "python3"
  },
  "language_info": {
   "codemirror_mode": {
    "name": "ipython",
    "version": 3
   },
   "file_extension": ".py",
   "mimetype": "text/x-python",
   "name": "python",
   "nbconvert_exporter": "python",
   "pygments_lexer": "ipython3",
   "version": "3.8.10"
  },
  "orig_nbformat": 4
 },
 "nbformat": 4,
 "nbformat_minor": 2
}
