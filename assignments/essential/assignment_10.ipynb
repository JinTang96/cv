{
 "cells": [
  {
   "cell_type": "markdown",
   "metadata": {},
   "source": [
    "# Assingment\n",
    "\n",
    "1. Create a border round any choosen image, make sure the border is 10% of the image shape. \n",
    "   <br>** Surprise me with any color.\n",
    "2. At the center of the image create a yellow square of 20% minimum of the image shape.\n",
    "3. Create a gray image from question 1image and draw a square (10%) of white at four corners of the image.\n",
    "4. Make sure you save the two resulting images."
   ]
  },
  {
   "cell_type": "code",
   "execution_count": 35,
   "metadata": {},
   "outputs": [
    {
     "name": "stdout",
     "output_type": "stream",
     "text": [
      "Image size: 1228800\n",
      "Image shape: (640, 640, 3)\n",
      "Border row size:  64\n",
      "Border column size:  64\n"
     ]
    }
   ],
   "source": [
    "import cv2 as cv\n",
    "import sys\n",
    "\n",
    "# Question 01\n",
    "try:\n",
    "    # Load the image\n",
    "    img_path = \"../../essential/assets/dolphin.jpg\"\n",
    "    img = cv.imread(img_path, cv.IMREAD_COLOR)\n",
    "\n",
    "    if img is None:\n",
    "        sys.exit(\"Fail to read the image.\")\n",
    "\n",
    "    # Obtain the image size and shape\n",
    "    img_size = img.size\n",
    "    img_shape = img.shape\n",
    "    print(\"Image size:\", img_size)\n",
    "    print(\"Image shape:\", img_shape)\n",
    "\n",
    "    # Define the size of the border\n",
    "    border_row_size = int(img_shape[0] * 0.1)\n",
    "    border_col_size = int(img_shape[1] * 0.1)\n",
    "    print(\"Border row size: \", border_row_size)\n",
    "    print(\"Border column size: \", border_col_size)\n",
    "\n",
    "    # Display the original image\n",
    "    cv.imshow(\"Original image\", img)\n",
    "    k = cv.waitKey(0)\n",
    "\n",
    "    # Create a copy of image and add the outer border\n",
    "    img_border = img.copy()\n",
    "    img_border[:border_row_size,:] = [0, 255, 255] # top border\n",
    "    img_border[-border_row_size:,:] = [0, 255, 255] # bottom border\n",
    "    img_border[:,-border_col_size:] = [0, 128, 255] # left border\n",
    "    img_border[border_row_size:,:border_col_size] = [0, 128, 255] # right border\n",
    "\n",
    "    # Display image with border\n",
    "    cv.imshow('Image with border', img_border)\n",
    "    cv.waitKey(0)\n",
    "    cv.imwrite(\"../../essential/assets/dolphin_with_border.jpg\", img_border)\n",
    "\n",
    "except Exception as e:\n",
    "    print(e)\n",
    "\n",
    "finally:\n",
    "    cv.destroyAllWindows()\n"
   ]
  },
  {
   "cell_type": "code",
   "execution_count": 37,
   "metadata": {},
   "outputs": [],
   "source": [
    "# Question 02\n",
    "\n",
    "try:\n",
    "    # Define center of the image\n",
    "    mid_row = int(img_shape[0]/2)\n",
    "    mid_col = int(img_shape[1]/2)\n",
    "\n",
    "    # Create a copy for adding square at the middle\n",
    "    img_mid_square = img.copy()\n",
    "    img_mid_square[mid_row - border_row_size : mid_row + border_row_size,\\\n",
    "        mid_col - border_col_size : mid_col + border_col_size] = [0, 255, 255]\n",
    "\n",
    "    # Display the original image and image with square at the middle\n",
    "    cv.imshow(\"Original image\", img)\n",
    "    k = cv.waitKey(0)\n",
    "\n",
    "    cv.imshow('Image with square at the middle', img_mid_square)\n",
    "    cv.waitKey(0)\n",
    "    cv.imwrite(\"../../essential/assets/dolphin_with_mid_square.jpg\", img_mid_square)\n",
    "\n",
    "except Exception as e:\n",
    "    print(e)\n",
    "\n",
    "finally:\n",
    "    cv.destroyAllWindows()\n",
    "\n"
   ]
  },
  {
   "cell_type": "code",
   "execution_count": 32,
   "metadata": {},
   "outputs": [
    {
     "name": "stdout",
     "output_type": "stream",
     "text": [
      "Image size: 409600\n",
      "Image shape: (640, 640)\n",
      "Border row size:  64\n",
      "Border column size:  64\n"
     ]
    }
   ],
   "source": [
    "# Question 03\n",
    "try:\n",
    "    # Load the image in gray scale\n",
    "    img_path = \"../../essential/assets/dolphin.jpg\"\n",
    "    img = cv.imread(img_path, cv.IMREAD_GRAYSCALE)\n",
    "\n",
    "    if img is None:\n",
    "        sys.exit(\"Fail to read the image.\")\n",
    "\n",
    "    # Obtain the image size and shape\n",
    "    img_size = img.size\n",
    "    img_shape = img.shape\n",
    "    print(\"Image size:\", img_size)\n",
    "    print(\"Image shape:\", img_shape)\n",
    "\n",
    "    # Define the size of the border\n",
    "    border_row_size = int(img_shape[0] * 0.1)\n",
    "    border_col_size = int(img_shape[1] * 0.1)\n",
    "    print(\"Border row size: \", border_row_size)\n",
    "    print(\"Border column size: \", border_col_size)\n",
    "\n",
    "    # Display the original image\n",
    "    cv.imshow(\"Original image\", img)\n",
    "    k = cv.waitKey(0)\n",
    "\n",
    "    # Create a copy of image and add white square at the corner\n",
    "    img_corner = img.copy()\n",
    "    img_corner[:border_row_size, :border_col_size] = 255 # top-left corner\n",
    "    img_corner[:border_row_size, -border_col_size:] = 255 # top-right corner\n",
    "    img_corner[-border_row_size:, :border_col_size] = 255 # bottom-left corner\n",
    "    img_corner[-border_row_size:, -border_col_size:] = 255 # bottom-right corner\n",
    "\n",
    "    # Display image with white square at the corner\n",
    "    cv.imshow('Image with white square at the corner', img_corner)\n",
    "    cv.waitKey(0)\n",
    "    cv.imwrite(\"../../essential/assets/dolphin_with_corner.jpg\", img_corner)\n",
    "\n",
    "except Exception as e:\n",
    "    print(e)\n",
    "\n",
    "finally:\n",
    "    cv.destroyAllWindows()"
   ]
  }
 ],
 "metadata": {
  "interpreter": {
   "hash": "df2462d2ff66c23763f4c9137a40f16005cf639a5d787d29a393c601591853f3"
  },
  "kernelspec": {
   "display_name": "Python 3.8.10 64-bit",
   "language": "python",
   "name": "python3"
  },
  "language_info": {
   "codemirror_mode": {
    "name": "ipython",
    "version": 3
   },
   "file_extension": ".py",
   "mimetype": "text/x-python",
   "name": "python",
   "nbconvert_exporter": "python",
   "pygments_lexer": "ipython3",
   "version": "3.8.10"
  },
  "orig_nbformat": 4
 },
 "nbformat": 4,
 "nbformat_minor": 2
}
