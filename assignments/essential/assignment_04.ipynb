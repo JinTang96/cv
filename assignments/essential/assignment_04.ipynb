{
 "cells": [
  {
   "cell_type": "markdown",
   "metadata": {},
   "source": [
    "## Class activity \n",
    "### Question 01 - Function\n",
    "1. Write a function to get arguments by keywords and value:\n",
    "<br> initial Temp = 400.0, simulationTime = 35\n",
    "<br> Note: Just print them in the function, try to call function with difference number of args"
   ]
  },
  {
   "cell_type": "code",
   "execution_count": 2,
   "metadata": {},
   "outputs": [
    {
     "name": "stdout",
     "output_type": "stream",
     "text": [
      "Initial temperature: 400.0 degree Celsius         \n",
      " Simulation time: 35\n",
      "\n",
      "Initial temperature: 36 degree Celsius         \n",
      " Simulation time: 80\n",
      "\n"
     ]
    }
   ],
   "source": [
    "def my_function(initialTemp = 400.0, simulationTime = 35):\n",
    "    print(f\"Initial temperature: {initialTemp} degree Celsius \\\n",
    "        \\n Simulation time: {simulationTime}\\n\")\n",
    "\n",
    "# Call function with default arguments\n",
    "my_function()\n",
    "\n",
    "# Call function with inputting arguments\n",
    "my_function(36, 80)"
   ]
  },
  {
   "cell_type": "markdown",
   "metadata": {},
   "source": [
    "<hr>\n",
    "\n",
    "### Question 02 - Package\n",
    "Install camelcase package using pip and use the package. "
   ]
  },
  {
   "cell_type": "code",
   "execution_count": 5,
   "metadata": {},
   "outputs": [
    {
     "name": "stdout",
     "output_type": "stream",
     "text": [
      "Collecting camelcase\n",
      "  Downloading camelcase-0.2.tar.gz (1.3 kB)\n",
      "  Preparing metadata (setup.py): started\n",
      "  Preparing metadata (setup.py): finished with status 'done'\n",
      "Building wheels for collected packages: camelcase\n",
      "  Building wheel for camelcase (setup.py): started\n",
      "  Building wheel for camelcase (setup.py): finished with status 'done'\n",
      "  Created wheel for camelcase: filename=camelcase-0.2-py3-none-any.whl size=1789 sha256=03685413000d661c2e55f58f5424a5ab7f8bdf9c13da3d249994bc23a14b6937\n",
      "  Stored in directory: c:\\users\\jctan\\appdata\\local\\pip\\cache\\wheels\\c3\\9a\\eb\\7eca0b069ef85183fd3215aa793d8ffa56ae5b424912c311df\n",
      "Successfully built camelcase\n",
      "Installing collected packages: camelcase\n",
      "Successfully installed camelcase-0.2\n",
      "Note: you may need to restart the kernel to use updated packages.\n"
     ]
    }
   ],
   "source": [
    "pip install camelcase"
   ]
  },
  {
   "cell_type": "code",
   "execution_count": 2,
   "metadata": {},
   "outputs": [
    {
     "name": "stdout",
     "output_type": "stream",
     "text": [
      "Good Day Everyone!\n"
     ]
    }
   ],
   "source": [
    "import camelcase\n",
    "c = camelcase.CamelCase()\n",
    "txt = (\"good day everyone!\")\n",
    "print(c.hump(txt))"
   ]
  },
  {
   "cell_type": "markdown",
   "metadata": {},
   "source": [
    "<hr>\n",
    "\n",
    "### Question 03 - Module\n",
    "1. Create a module with your name. \n",
    "2. Write a function that count 1 to n in the module. \n",
    "3. Create a package which contain this module and use the package in the module. "
   ]
  },
  {
   "cell_type": "code",
   "execution_count": 6,
   "metadata": {},
   "outputs": [
    {
     "name": "stdout",
     "output_type": "stream",
     "text": [
      "Hello World!\n",
      "Wish you have a nice day, jincheng\n",
      "[1, 2, 3, 4, 5, 6, 7, 8, 9, 10]\n",
      "Good day everyone.\n",
      "My name is jincheng.\n"
     ]
    }
   ],
   "source": [
    "# 3. Create a package which contain this module and use the package in the module. \n",
    "\n",
    "from jinpackage import hello_world, nice_day, count, class_people\n",
    "\n",
    "# call function from module inside the package\n",
    "hello_world.hello_world()\n",
    "nice_day.nice_day(\"jincheng\")\n",
    "count.count(10)\n",
    "\n",
    "# construct object from a class and use the method of the class\n",
    "person1 = class_people.People(\"jincheng\")\n",
    "person1.greet()\n",
    "person1.self_intro()"
   ]
  },
  {
   "cell_type": "markdown",
   "metadata": {},
   "source": [
    "<hr>\n",
    "\n",
    "### File handling\n",
    "The modes of file handling are:\n",
    "1. \"r\" > Read : Default value, open a file for reading, return an error if file does not exist\n",
    "2. \"a\" > Append : Open a file for appending, return an error if file does not exist\n",
    "3. \"w\" > Write : Open a file for writing, create a file if the file does not exist\n",
    "4. \"x\" > Create : Create a file with the specified name, returns an error if the file exists\n",
    "<br>\n",
    "\n",
    "Types of file:\n",
    "1. \"t\" > Text : Default value which is text mode. \n",
    "2. \"b\" > Binary : Binary mode (e.g. images)\n",
    "<br><br>\n",
    "\n",
    "### Question 04 - File handling\n",
    "1. Create file with your name and .txt extension\n",
    "2. The file should be like this<br>\n",
    "&emsp;<table>\n",
    "<tr><td>No. </td><td>Student name</td><td>Grade</td></tr>\n",
    "<tr><td>01 </td><td>Inamul</td><td>100</td></tr>\n",
    "<tr><td>02 </td><td>Alkisah</td><td>100</td></tr>\n",
    "</table>\n",
    "\n"
   ]
  },
  {
   "cell_type": "code",
   "execution_count": 13,
   "metadata": {},
   "outputs": [],
   "source": [
    "import os \n",
    "\n",
    "write_file = open('jincheng.txt', 'w')\n",
    "write_file.writelines(\"No. \\t Student name \\t Grade\\n\")\n",
    "write_file.writelines(\"1 \\t Inamul \\t 100\\n\")\n",
    "write_file.writelines(\"2 \\t Alkisah \\t 100\\n\")"
   ]
  },
  {
   "cell_type": "code",
   "execution_count": 24,
   "metadata": {},
   "outputs": [
    {
     "name": "stdout",
     "output_type": "stream",
     "text": [
      "No. \t Student name \t Grade\n",
      "\n",
      "1 \t Inamul \t 100\n",
      "\n",
      "2 \t Alkisah \t 100\n",
      "\n"
     ]
    }
   ],
   "source": [
    "read_file = open('jincheng.txt', 'r')\n",
    "\n",
    "# print([line for line in read_file])\n",
    "# Output : ['No. \\t Student name \\t Grade\\n', '1 \\t Inamul \\t 100\\n', '2 \\t Alkisah \\t 100\\n']\n",
    "\n",
    "# for l in read_file:\n",
    "#     print(l)\n",
    "# Output : same as the below\n",
    "\n",
    "lines = read_file.readlines()\n",
    "for line in lines:\n",
    "    print (line)\n",
    "\n",
    "read_file.close()"
   ]
  },
  {
   "cell_type": "markdown",
   "metadata": {},
   "source": [
    "<hr>\n",
    "\n",
    "## Take home assignment\n",
    "### Question 01 -Function and recursive function\n",
    "1. Calculate S = 1 + 2 + 3 + ... + n with a recursive function\n",
    "2. Declare a function to create Fibonacci sequence (0, 1, 1, 2, 3, 5)\n",
    "Tips: The function will get the number of term and produce the terms from up to n.\n",
    "<br> Note: Once without recursion, another time with recursion"
   ]
  },
  {
   "cell_type": "code",
   "execution_count": 25,
   "metadata": {},
   "outputs": [
    {
     "name": "stdout",
     "output_type": "stream",
     "text": [
      "Normal summation method for n = 5: 15\n",
      "Recursive sum for n = 5: 15\n"
     ]
    }
   ],
   "source": [
    "# 1. Calculate S = 1 + 2 + 3 + ... + n with a recursive function\n",
    "while True:\n",
    "    try:\n",
    "        n = int(input(\"Please enter a number of n for calculate the S: \"))\n",
    "        if n >= 0:\n",
    "            None\n",
    "        else:\n",
    "            print(\"a\")\n",
    "            continue\n",
    "    except:\n",
    "        print(\"Please insert a valid number\")\n",
    "        continue\n",
    "    else:\n",
    "        break\n",
    "\n",
    "# Without recursion\n",
    "normal_S = 0\n",
    "for i in range(n + 1):\n",
    "    normal_S += i\n",
    "print(f\"Normal summation method for n = {n}: {normal_S}\")\n",
    "\n",
    "# With recursion\n",
    "def recursive_sum(n):\n",
    "    if n <= 1:\n",
    "        return n\n",
    "    else:\n",
    "        return n + recursive_sum(n - 1)\n",
    "         \n",
    "print(f\"Recursive sum for n = {n}:\", recursive_sum(n))"
   ]
  },
  {
   "cell_type": "code",
   "execution_count": 35,
   "metadata": {},
   "outputs": [
    {
     "name": "stdout",
     "output_type": "stream",
     "text": [
      "Fibonacci sequence without recursion: [0, 1, 1, 2, 3]\n",
      "Fibonacci sequence with recursion: []\n"
     ]
    }
   ],
   "source": [
    "# 2. Declare a function to create Fibonacci sequence (0, 1, 1, 2, 3, 5)\n",
    "\n",
    "# Without recursion\n",
    "while True:\n",
    "    try:\n",
    "        n = int(input(\"Please enter a number of n for Fibonacci sequence: \"))\n",
    "        if n >= 0:\n",
    "            None\n",
    "        else:\n",
    "            print(\"a\")\n",
    "            continue\n",
    "    except:\n",
    "        print(\"Please insert a valid number\")\n",
    "        continue\n",
    "    else:\n",
    "        break\n",
    "\n",
    "num1, num2 = 0, 1\n",
    "fibo_list = []\n",
    "\n",
    "while n > 0:\n",
    "    fibo_list.append(num1) \n",
    "    temp = num1 + num2\n",
    "    num1 = num2\n",
    "    num2 = temp\n",
    "    n -= 1\n",
    "print(f\"Fibonacci sequence without recursion: {fibo_list}\")\n",
    "\n",
    "# With recursion\n",
    "fibo_list_recur = []\n",
    "\n",
    "def fibo(n):\n",
    "    if n <= 1:\n",
    "        return n\n",
    "    else:\n",
    "        return (fibo(n-1) + fibo(n-2))\n",
    "\n",
    "for i in range(n):\n",
    "    print(fibo(i))\n",
    "    fibo_list_recur.append(fibo(i))\n",
    "\n",
    "print(f\"Fibonacci sequence with recursion: {fibo_list_recur}\")"
   ]
  },
  {
   "cell_type": "code",
   "execution_count": 36,
   "metadata": {},
   "outputs": [
    {
     "name": "stdout",
     "output_type": "stream",
     "text": [
      "Fibonacci sequence with recursion: [0, 1, 1, 2, 3, 5, 8]\n"
     ]
    }
   ],
   "source": [
    "# With recursion\n",
    "while True:\n",
    "    try:\n",
    "        n = int(input(\"Please enter a number of n for Fibonacci sequence: \"))\n",
    "        if n >= 0:\n",
    "            None\n",
    "        else:\n",
    "            print(\"a\")\n",
    "            continue\n",
    "    except:\n",
    "        print(\"Please insert a valid number\")\n",
    "        continue\n",
    "    else:\n",
    "        break\n",
    "\n",
    "fibo_list_recur = []\n",
    "\n",
    "def fibo(n):\n",
    "    if n <= 1:\n",
    "        return n\n",
    "    else:\n",
    "        return (fibo(n-1) + fibo(n-2))\n",
    "\n",
    "for i in range(n):\n",
    "    fibo_list_recur.append(fibo(i))\n",
    "\n",
    "print(f\"Fibonacci sequence with recursion: {fibo_list_recur}\")"
   ]
  },
  {
   "cell_type": "markdown",
   "metadata": {},
   "source": [
    "<hr>\n",
    "\n",
    "### Question 02 - Lambda function\n",
    "1. Write down a function to produce this statement with normal method and lambda function.\n",
    "\n",
    "$$\n",
    "f(x, y, z) = 2x^2 + 2y + z   \n",
    "$$\n"
   ]
  },
  {
   "cell_type": "code",
   "execution_count": 39,
   "metadata": {},
   "outputs": [
    {
     "name": "stdout",
     "output_type": "stream",
     "text": [
      "With normal function declaration method:  22\n",
      "With Lambda function:  22\n"
     ]
    }
   ],
   "source": [
    "# Normal declaration of function\n",
    "def normal_func(x, y, z):\n",
    "    return 2*(x**2) + 2*y + z\n",
    "print(\"With normal function declaration method: \", normal_func(2, 4, 6))\n",
    "\n",
    "# Lambda function\n",
    "lamb_func = lambda x, y, z: 2*(x**2) + 2*y + z\n",
    "print(\"With Lambda function: \", lamb_func(2, 4, 6))"
   ]
  },
  {
   "cell_type": "markdown",
   "metadata": {},
   "source": [
    "<hr>\n",
    "\n",
    "### Question 03 - Module\n",
    "1. Find out the other functions to form a date and time of now and try to use it. \n",
    "2. Find out more functions in math module and try to use them in your code\n",
    "3. - Create a module with your name and import functions of the previous assignment to it. Try to use them in another file.\n",
    "   - Check the existing functions in math module. "
   ]
  },
  {
   "cell_type": "code",
   "execution_count": 62,
   "metadata": {},
   "outputs": [
    {
     "name": "stdout",
     "output_type": "stream",
     "text": [
      "Date(DD/MM/YYYY): 20/11/2021\n",
      "Date and Time: 2021-11-20 17:18:31.028081\n"
     ]
    }
   ],
   "source": [
    "# 1. Find out the other functions to form a date and time of now and try to use it.\n",
    "import datetime\n",
    "\n",
    "now = datetime.datetime.now()\n",
    "year = now.year\n",
    "month = now.month\n",
    "day = now.day\n",
    "time = now\n",
    "\n",
    "print(f\"Date(DD/MM/YYYY): {day}/{month}/{year}\")\n",
    "print(f\"Date and Time: {time}\")"
   ]
  },
  {
   "cell_type": "code",
   "execution_count": 75,
   "metadata": {},
   "outputs": [
    {
     "name": "stdout",
     "output_type": "stream",
     "text": [
      "324\n",
      "4.0\n"
     ]
    }
   ],
   "source": [
    "# 2. Find out more functions in math module and try to use them in your code\n",
    "import math\n",
    "\n",
    "# Get the product of all elements in the list\n",
    "print(math.prod([2, 3, 6, 9]))\n",
    "\n",
    "# Get the remainder of x w.r.t. y in the tuple\n",
    "print(math.remainder(64, 15))"
   ]
  },
  {
   "cell_type": "code",
   "execution_count": 4,
   "metadata": {},
   "outputs": [
    {
     "name": "stdout",
     "output_type": "stream",
     "text": [
      "Hello World!\n",
      "Wish you have a nice day, jincheng\n",
      "Good day everyone.\n",
      "My name is jincheng.\n"
     ]
    }
   ],
   "source": [
    "# 3. - Create a module with your name and import functions of the previous assignment to it. Try to use them in another file.\n",
    "#    - Check the existing functions in math module. \n",
    "\n",
    "import jin_module\n",
    "\n",
    "jin_module.hello_world()\n",
    "jin_module.nice_day(\"jincheng\")\n",
    "\n",
    "person1 = jin_module.People(\"jincheng\")\n",
    "person1.greet()\n",
    "person1.self_intro()"
   ]
  },
  {
   "cell_type": "code",
   "execution_count": null,
   "metadata": {},
   "outputs": [],
   "source": []
  }
 ],
 "metadata": {
  "interpreter": {
   "hash": "5b84b3b12e548dba9b9d18e6c672712305720b850822670c063dc894011d2bb2"
  },
  "kernelspec": {
   "display_name": "Python 3.9.9 64-bit",
   "language": "python",
   "name": "python3"
  },
  "language_info": {
   "codemirror_mode": {
    "name": "ipython",
    "version": 3
   },
   "file_extension": ".py",
   "mimetype": "text/x-python",
   "name": "python",
   "nbconvert_exporter": "python",
   "pygments_lexer": "ipython3",
   "version": "3.9.9"
  },
  "orig_nbformat": 4
 },
 "nbformat": 4,
 "nbformat_minor": 2
}
