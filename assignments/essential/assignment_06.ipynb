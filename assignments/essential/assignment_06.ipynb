{
 "cells": [
  {
   "cell_type": "markdown",
   "metadata": {},
   "source": [
    "# Assignment\n",
    "\n",
    "1. Create an array of shape (10, 10) with uint8 random values.\n",
    "2. print the shape, size and dimension, \n",
    "3. Compute the sum of the third row to the last.\n",
    "4. Compute the average of the columns"
   ]
  },
  {
   "cell_type": "code",
   "execution_count": 3,
   "metadata": {},
   "outputs": [
    {
     "name": "stdout",
     "output_type": "stream",
     "text": [
      "Shape= (10, 10)\n",
      "Size= 100\n",
      "Dimension= 2\n",
      "Type: uint8\n",
      "\n",
      "Third rows to the last row:\n",
      " [[ 58 198  63  91 250 149 127  87 103 185]\n",
      " [ 48 229  38 137  88  31 242 115 186  44]\n",
      " [212 211 140   4  25 125 137   9 185  67]\n",
      " [ 58 115  98 223 197  12 119 122  18 228]\n",
      " [ 83 188 122 112   8  89  89 180  73 153]\n",
      " [203  43 109  34 212  51 180 226  35 224]\n",
      " [141  66  38 181 100  75  90 201  49  12]]\n",
      "\n",
      "SUM of each row from 3rd to 7th row:\n",
      " [1311 1158 1115 1190 1097 1317  953]\n",
      "\n",
      "SUM of all the rows of 3rd to 7th row:\n",
      " 8141\n",
      "\n",
      "MEAN of each row from 3rd to 7th row:\n",
      " [131.1 115.8 111.5 119.  109.7 131.7  95.3]\n",
      "\n",
      "MEAN of all the rows of 3rd to 7th row:\n",
      " 116.3\n"
     ]
    }
   ],
   "source": [
    "import numpy as np\n",
    "\n",
    "# Question 01\n",
    "np.random.seed(53)\n",
    "q1 = np.random.randint(0,256, (10,10), dtype='uint8')\n",
    "\n",
    "# Question 02\n",
    "print('Shape=', q1.shape)\n",
    "print('Size=', q1.size)\n",
    "print('Dimension=', q1.ndim)\n",
    "print('Type:', q1.dtype)\n",
    "\n",
    "# Question 03\n",
    "q3 = q1[3:]\n",
    "print(\"\\nThird rows to the last row:\\n\", q3)\n",
    "sum_rows = np.sum(q3, axis=1)\n",
    "total_sum = np.sum(q3)\n",
    "print(\"\\nSUM of each row from 3rd to 7th row:\\n\", sum_rows)\n",
    "print(\"\\nSUM of all the rows of 3rd to 7th row:\\n\", total_sum)\n",
    "\n",
    "# Question 04\n",
    "average_rows = np.mean(q3, axis=1)\n",
    "mean_average = np.mean(q3)\n",
    "print(\"\\nMEAN of each row from 3rd to 7th row:\\n\", average_rows)\n",
    "print(\"\\nMEAN of all the rows of 3rd to 7th row:\\n\", mean_average)"
   ]
  },
  {
   "cell_type": "code",
   "execution_count": null,
   "metadata": {},
   "outputs": [],
   "source": []
  }
 ],
 "metadata": {
  "interpreter": {
   "hash": "df2462d2ff66c23763f4c9137a40f16005cf639a5d787d29a393c601591853f3"
  },
  "kernelspec": {
   "display_name": "Python 3.8.10 64-bit",
   "language": "python",
   "name": "python3"
  },
  "language_info": {
   "codemirror_mode": {
    "name": "ipython",
    "version": 3
   },
   "file_extension": ".py",
   "mimetype": "text/x-python",
   "name": "python",
   "nbconvert_exporter": "python",
   "pygments_lexer": "ipython3",
   "version": "3.8.10"
  },
  "orig_nbformat": 4
 },
 "nbformat": 4,
 "nbformat_minor": 2
}
