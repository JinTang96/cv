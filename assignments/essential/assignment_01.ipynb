{
 "cells": [
  {
   "cell_type": "markdown",
   "metadata": {},
   "source": [
    "### This assignment is correspond to a01 only. \n",
    "\n",
    "1. Use python to write an application letter for job to Perantis.  \n",
    "\n",
    "2. Solve quadratic equation using.  \n",
    "\n",
    "$$\n",
    "x=\\frac{-b\\pm\\sqrt{b^2-4ac}}{2a}    \n",
    "$$\n",
    "$$\n",
    "a = 2, b= 8 and c = 1\n",
    "$$"
   ]
  },
  {
   "cell_type": "code",
   "execution_count": 1,
   "metadata": {},
   "outputs": [
    {
     "name": "stdout",
     "output_type": "stream",
     "text": [
      "Tang Jin Cheng \n",
      "Taman Bangi Indah, \n",
      "43000 Kajang, \n",
      "Selangor.\n",
      "\n",
      "Perantis Iskandar | Educity\n",
      "79200 Iskandar Puteri,\n",
      "Johor Darul Ta'zim.\n",
      "\n",
      "Hi, my name is Tang Jin Cheng. I was excited to enroll in the Iskandar Perantis training program as I will be able to expose myself to the knowledge of image processing and artificial intelligence. Definitely it will be an honor for me to start my career as an AI developer. \n",
      "\n",
      "I graduated as a Bachelor of Mechatronics Engineering. I started my exposure in machine learning in the final year project, whereby I attempted to help the patient who cannot move their arm according to their will. I classified the winking brain signals using various machine learning models so that the best models can be adapted to the devices.Due to my interest in artificial intelligence systems, I am furthering my Master's degree and getting involved in the research of using deep learning-based object detection algorithms in the application of human presence detection.At the same time, I had taken part in a university-industry collaboration for one year as a postgraduate researcher.\n",
      "\n",
      "Even though I do not have a strong background in computer science as others do, I am willing to explore and expand my knowledge and skills towards programming as well as deep learning. Here I attach the curriculum vitae and the job application form for the job. Look forward to discussing the AI developer position and my qualifications in more detail.\n",
      "\n",
      "Thank you so much for your time and consideration. I sincerely appreciate it.\n",
      "\n",
      "Sincerely,\n",
      "Tang Jin Cheng\n"
     ]
    }
   ],
   "source": [
    "# 1. Use python to write an application letter for job to Perantis\n",
    "\n",
    "print(\"Tang Jin Cheng \\\n",
    "\\nTaman Bangi Indah, \\\n",
    "\\n43000 Kajang, \\\n",
    "\\nSelangor.\\n\")\n",
    "\n",
    "print(\"Perantis Iskandar | Educity\\\n",
    "\\n79200 Iskandar Puteri,\\\n",
    "\\nJohor Darul Ta'zim.\\n\")\n",
    "\n",
    "print(\"Hi, my name is Tang Jin Cheng. I was excited to enroll in the Iskandar Perantis training program as I will be able to expose myself to the knowledge of image processing and \\\n",
    "artificial intelligence. Definitely it will be an honor for me to start my career as an AI developer. \\n\")\n",
    "\n",
    "print(\"I graduated as a Bachelor of Mechatronics Engineering. I started my exposure in machine learning in the final year project, whereby I attempted to help the patient who cannot move their \\\n",
    "arm according to their will. I classified the winking brain signals using various machine learning models so that the best models can be adapted to the devices.\\\n",
    "Due to my interest in artificial intelligence systems, I am furthering my Master's degree and getting involved in the research of using deep learning-based \\\n",
    "object detection algorithms in the application of human presence detection.\\\n",
    "At the same time, I had taken part in a university-industry collaboration for one year as a postgraduate researcher.\\n\")\n",
    "\n",
    "print(\"Even though I do not have a strong background in computer science as others do, I am willing to explore and expand my knowledge and skills towards programming as well as deep learning. \\\n",
    "Here I attach the curriculum vitae and the job application form for the job. Look forward to discussing the AI developer position and my qualifications in more detail.\\n\")\n",
    "\n",
    "print(\"Thank you so much for your time and consideration. I sincerely appreciate it.\\n\")\n",
    "\n",
    "print(\"Sincerely,\\\n",
    "\\nTang Jin Cheng\")"
   ]
  },
  {
   "cell_type": "code",
   "execution_count": 2,
   "metadata": {},
   "outputs": [
    {
     "name": "stdout",
     "output_type": "stream",
     "text": [
      "X₁ = -0.1292\n",
      "X₂ = -3.8708\n"
     ]
    }
   ],
   "source": [
    "# 2. Solve quadratic equation, if a=2, b=8, c=1.\n",
    "\n",
    "import numpy as np\n",
    "import cmath \n",
    "\n",
    "# Variables of the quadratic equation\n",
    "a = 2\n",
    "b = 8\n",
    "c = 1\n",
    "\n",
    "# Discriminant equation with uppercase delta as the symbol\n",
    "upper_delta = (b**2) - (4*a*c)\n",
    "\n",
    "# Solve the root of the quadratic equation\n",
    "root_1, root_2 = (-b + np.sqrt(upper_delta)) / (2 * a), (-b - np.sqrt(upper_delta)) / (2 * a)\n",
    "\n",
    "# Print the solution in 4 decimal places\n",
    "print(\"X\\u2081 = {:.4f}\".format(root_1))\n",
    "print(\"X\\u2082 = {:.4f}\".format(root_2))"
   ]
  }
 ],
 "metadata": {
  "interpreter": {
   "hash": "5b84b3b12e548dba9b9d18e6c672712305720b850822670c063dc894011d2bb2"
  },
  "kernelspec": {
   "display_name": "Python 3.9.9 64-bit",
   "language": "python",
   "name": "python3"
  },
  "language_info": {
   "codemirror_mode": {
    "name": "ipython",
    "version": 3
   },
   "file_extension": ".py",
   "mimetype": "text/x-python",
   "name": "python",
   "nbconvert_exporter": "python",
   "pygments_lexer": "ipython3",
   "version": "3.9.9"
  },
  "orig_nbformat": 4
 },
 "nbformat": 4,
 "nbformat_minor": 2
}
