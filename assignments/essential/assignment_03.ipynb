{
 "cells": [
  {
   "cell_type": "markdown",
   "metadata": {},
   "source": [
    "## Class Activities\n",
    "\n",
    "### Question 01 - List\n",
    "\n",
    "1. Define a food list\n",
    "2. Print the food list\n",
    "3. Print from last item to the first item in the food list\n",
    "4. Add an element called \"Rice\" to the food list\n",
    "5. Print the index of \"Rice\" in the food list\n",
    "6. Sort the food list by alphabetical order\n",
    "7. Count the number of occurrence of the foods in the food list\n",
    "8. Clear the food list"
   ]
  },
  {
   "cell_type": "code",
   "execution_count": 3,
   "metadata": {},
   "outputs": [
    {
     "name": "stdout",
     "output_type": "stream",
     "text": [
      "['Bread', 'Salmon', 'Noodle', 'Cake', 'Sushi']\n"
     ]
    }
   ],
   "source": [
    "# 1. Define a food list\n",
    "food_list = ['Bread', 'Salmon','Noodle', 'Cake', 'Sushi']\n",
    "\n",
    "# 2. Print the food list\n",
    "print(food_list)"
   ]
  },
  {
   "cell_type": "code",
   "execution_count": 42,
   "metadata": {},
   "outputs": [
    {
     "name": "stdout",
     "output_type": "stream",
     "text": [
      "['Sushi', 'Cake', 'Noodle', 'Salmon', 'Bread']\n"
     ]
    }
   ],
   "source": [
    "# 3. Print from last item to the first item in the food list\n",
    "print(food_list[::-1])"
   ]
  },
  {
   "cell_type": "code",
   "execution_count": 49,
   "metadata": {},
   "outputs": [
    {
     "name": "stdout",
     "output_type": "stream",
     "text": [
      "['Bread', 'Cake', 'Noodle', 'Rice', 'Salmon', 'Sushi', 'Rice']\n"
     ]
    }
   ],
   "source": [
    "# 4. Add an element called \"Rice\" to the food list\n",
    "food_list.append('Rice')\n",
    "print(food_list)"
   ]
  },
  {
   "cell_type": "code",
   "execution_count": 50,
   "metadata": {},
   "outputs": [
    {
     "name": "stdout",
     "output_type": "stream",
     "text": [
      "Index of Rice: 3\n"
     ]
    }
   ],
   "source": [
    "# 5. Print the index of \"Rice\" in the food list\n",
    "print(\"Index of Rice:\", food_list.index(\"Rice\"))"
   ]
  },
  {
   "cell_type": "code",
   "execution_count": 65,
   "metadata": {},
   "outputs": [
    {
     "name": "stdout",
     "output_type": "stream",
     "text": [
      "['Bread', 'Cake', 'Noodle', 'Rice', 'Rice', 'Salmon', 'Sushi']\n"
     ]
    }
   ],
   "source": [
    "# 6. Sort the food list by alphabetical order\n",
    "sorted_food_list = food_list.copy()\n",
    "sorted_food_list.sort()\n",
    "print(sorted_food_list)"
   ]
  },
  {
   "cell_type": "code",
   "execution_count": 66,
   "metadata": {},
   "outputs": [
    {
     "name": "stdout",
     "output_type": "stream",
     "text": [
      "Bread count: 1\n",
      "Cake count: 1\n",
      "Noodle count: 1\n",
      "Rice count: 2\n",
      "Rice count: 2\n",
      "Salmon count: 1\n",
      "Sushi count: 1\n"
     ]
    }
   ],
   "source": [
    "# 7. Count the number of occurrence of the foods in the food list\n",
    "for food in food_list:\n",
    "    print(f\"{food} count:\", food_list.count(food))"
   ]
  },
  {
   "cell_type": "code",
   "execution_count": 68,
   "metadata": {},
   "outputs": [
    {
     "name": "stdout",
     "output_type": "stream",
     "text": [
      "[] []\n"
     ]
    }
   ],
   "source": [
    "# 8. Clear the food list\n",
    "food_list.clear()\n",
    "sorted_food_list.clear()\n",
    "print (food_list, sorted_food_list)"
   ]
  },
  {
   "cell_type": "markdown",
   "metadata": {},
   "source": [
    "### Question 02 - List and Tuple\n",
    "1. Acquire the name of siblings from user input into a list\n",
    "2. Convert siblings' name list into a tuple\n",
    "3. Print the tuple containing the name of the siblings\n",
    "\n",
    "- List is mutable while tuple is immutable. \n",
    "- List with square bracket while tuple with parentheses"
   ]
  },
  {
   "cell_type": "code",
   "execution_count": 10,
   "metadata": {},
   "outputs": [],
   "source": [
    "# 1. Acquire the name of siblings from user input\n",
    "\n",
    "# Create an empty list of siblings' name\n",
    "sibs_list = []\n",
    "\n",
    "while True:\n",
    "    try:\n",
    "        sibs_num = int(input(\"How many siblings do you have? : \"))\n",
    "        if sibs_num > 0:\n",
    "            None\n",
    "        else:\n",
    "            print(\"Please enter a valid number (E.g.) 6\")\n",
    "            continue\n",
    "    except:\n",
    "        print(\"Please enter a valid number (E.g.) 6\")\n",
    "        continue\n",
    "    else:\n",
    "        break\n",
    "\n",
    "# Collect user input of the name of siblings\n",
    "for sibs in range(sibs_num):\n",
    "    while True:\n",
    "        try:\n",
    "            name = str(input(\"Please enter the name of siblings: \"))\n",
    "            if name.isalpha() == True:\n",
    "                sibs_list.append(name)\n",
    "            else:\n",
    "                print(\"Please enter the name in alphabet letters only (E.g.) jincheng\")\n",
    "                continue\n",
    "        except:\n",
    "            print(\"Please enter the name in alphabet letters only (E.g.) jincheng\")\n",
    "            continue\n",
    "        else:\n",
    "            break"
   ]
  },
  {
   "cell_type": "code",
   "execution_count": 13,
   "metadata": {},
   "outputs": [
    {
     "name": "stdout",
     "output_type": "stream",
     "text": [
      "['Ansem', 'Bosch', 'Carol', 'Hardy'] ----- <class 'list'>\n",
      "('Ansem', 'Bosch', 'Carol', 'Hardy') ----- <class 'tuple'>\n"
     ]
    }
   ],
   "source": [
    "# 2. Convert siblings' name list into a tuple\n",
    "sibs_tup = tuple(sibs_list)\n",
    "\n",
    "# 3. Print the tuple containing the name of the siblings\n",
    "print(sibs_list, \"-----\", type(sibs_list))\n",
    "print(sibs_tup, \"-----\", type(sibs_tup))\n",
    "\n",
    "### Tuple is cannot be modified, type cast to list for modifying purpose. "
   ]
  },
  {
   "cell_type": "markdown",
   "metadata": {},
   "source": [
    "### Question 03 - Sets\n",
    "1. Create a sets containing four major courses\n",
    "2. Create a sets containing courses that has been passed\n",
    "3. Discover the courses that haven't passed yet\n",
    "4. Create a sets of all courses that have been taken \n",
    "5. Discover the courses that have been took previously"
   ]
  },
  {
   "cell_type": "code",
   "execution_count": 20,
   "metadata": {},
   "outputs": [],
   "source": [
    "# 1. Create a sets containing four major courses\n",
    "major = {'Algebra', 'Mechanics', 'Computer Programming', 'Data Analytics'}\n",
    "\n",
    "# 2. Define the courses that has been passed\n",
    "passed = {'Data Analytics', 'Computer Programming', 'Archery', 'Control System'}"
   ]
  },
  {
   "cell_type": "code",
   "execution_count": 21,
   "metadata": {},
   "outputs": [
    {
     "name": "stdout",
     "output_type": "stream",
     "text": [
      "Major that haven't pass:  {'Algebra', 'Mechanics'}\n",
      "Passed major:  {'Data Analytics', 'Computer Programming'}\n"
     ]
    }
   ],
   "source": [
    "# 3. Discover the courses that haven't pass\n",
    "not_passed = major.difference(passed)\n",
    "print(\"Major that haven't pass: \", not_passed)\n",
    "\n",
    "# Passed major courses\n",
    "passed_major = major.intersection(passed)\n",
    "print(\"Passed major: \", passed_major)"
   ]
  },
  {
   "cell_type": "code",
   "execution_count": 24,
   "metadata": {},
   "outputs": [
    {
     "name": "stdout",
     "output_type": "stream",
     "text": [
      "All courses:  {'Computer Programming', 'Mechanics', 'Data Analytics', 'Archery', 'Algebra', 'Control System'}\n"
     ]
    }
   ],
   "source": [
    "# 4. Create a sets of all courses that have been taken\n",
    "all_courses = major.union(passed)\n",
    "print(\"All courses: \", all_courses)"
   ]
  },
  {
   "cell_type": "code",
   "execution_count": 26,
   "metadata": {},
   "outputs": [
    {
     "name": "stdout",
     "output_type": "stream",
     "text": [
      "Previous courses:  {'Control System', 'Archery'}\n"
     ]
    }
   ],
   "source": [
    "# 5. Discover the courses that have been took previously\n",
    "previous = passed.difference(major)\n",
    "print(\"Previous courses: \", previous)"
   ]
  },
  {
   "cell_type": "markdown",
   "metadata": {},
   "source": [
    "### Question 04 - Dictionary\n",
    "1. Create a malay/english dictionary for numbers from 0 to 5\n",
    "2. Take out the malay words that have been defined in the dictionary\n",
    "3. Create a set of numbers in malay from zero to ten\n",
    "4. Find out which numbers are not defined in the dictionary with the set \n",
    "5. Ask user to input and add them to the dictionary"
   ]
  },
  {
   "cell_type": "code",
   "execution_count": 1,
   "metadata": {},
   "outputs": [
    {
     "name": "stdout",
     "output_type": "stream",
     "text": [
      "{'sifar': 'zero', 'satu': 'one', 'dua': 'two', 'tiga': 'three', 'empat': 'four', 'lima': 'five'}\n"
     ]
    }
   ],
   "source": [
    "# 1. Create a english dictionary for numbers from 0 to 5\n",
    "num_dict = dict(sifar = 'zero', satu = 'one', dua = 'two', tiga ='three', empat = 'four', lima = 'five')\n",
    "print(num_dict)"
   ]
  },
  {
   "cell_type": "code",
   "execution_count": 2,
   "metadata": {},
   "outputs": [
    {
     "name": "stdout",
     "output_type": "stream",
     "text": [
      "dict_keys(['sifar', 'satu', 'dua', 'tiga', 'empat', 'lima'])\n"
     ]
    }
   ],
   "source": [
    "# 2. Take out the malay words that have been defined in the dictionary\n",
    "num_dict_key = num_dict.keys()\n",
    "print(num_dict_key)"
   ]
  },
  {
   "cell_type": "code",
   "execution_count": 3,
   "metadata": {},
   "outputs": [
    {
     "name": "stdout",
     "output_type": "stream",
     "text": [
      "{'sembilan', 'sifar', 'enam', 'sepuluh', 'lima', 'tiga', 'empat', 'lapan', 'tujuh', 'satu', 'dua'}\n"
     ]
    }
   ],
   "source": [
    "# 3. Create a set of numbers in english from zero to ten\n",
    "full_num_set = {'sifar', 'satu', 'dua', 'tiga', 'empat', 'lima', 'enam', 'tujuh', 'lapan', 'sembilan', 'sepuluh'}\n",
    "print(full_num_set)"
   ]
  },
  {
   "cell_type": "code",
   "execution_count": 5,
   "metadata": {},
   "outputs": [
    {
     "name": "stdout",
     "output_type": "stream",
     "text": [
      "There are some elements missing in the dictionary, kindly help to improve it.\n",
      "The missing elements are as followed:  set()\n",
      "{'sifar': 'zero', 'satu': 'one', 'dua': 'two', 'tiga': 'three', 'empat': 'four', 'lima': 'five', 'sembilan': 'nine', 'enam': 'six', 'sepuluh': 'ten', 'lapan': 'eight', 'tujuh': 'seven'}\n",
      "You have successfully update the dictionary. Thanks for the help.\n"
     ]
    }
   ],
   "source": [
    "# 4. Find out which numbers are not defined in the dictionary with the set \n",
    "num_set = set(num_dict_key)\n",
    "# print(num_set)\n",
    "\n",
    "missing = full_num_set.difference(num_set)\n",
    "# print(diff)\n",
    "\n",
    "print(\"There are some elements missing in the dictionary, kindly help to improve it.\")\n",
    "print(\"The missing elements are as followed: \", missing)\n",
    "\n",
    "# To convert index to list as set is unindexed and unordered\n",
    "num_list = list(num_set)\n",
    "missing_list = list(missing)\n",
    "# print(num_list)\n",
    "# print(missing_list)\n",
    "\n",
    "# Loop in missing list for dictionary improvement\n",
    "for i in range (len(missing_list)):\n",
    "    new_key = missing_list[i]\n",
    "\n",
    "    while True:\n",
    "        try:\n",
    "            new_values = str(input(f\"Please assist in translating the Malay word of {new_key} to English: \"))\n",
    "            if new_values.isalpha() == True:\n",
    "                num_dict[new_key] = new_values\n",
    "            else:\n",
    "                print(\"else\")\n",
    "                continue\n",
    "        except:\n",
    "            print(\"Please insert only alphabet letters (E.g.) five\")\n",
    "            continue\n",
    "        else:\n",
    "            break\n",
    "\n",
    "if num_dict_key == full_num_set:\n",
    "    print(num_dict)\n",
    "    print(\"You have successfully update the dictionary. Thanks for the help.\")"
   ]
  },
  {
   "cell_type": "markdown",
   "metadata": {},
   "source": [
    "## Take home assignment\n",
    "### Write this program with both 'while' AND 'for' respectively. \n",
    "\n",
    "1. Get an integer value from user (n) and calculate the series: S = 1 + 2 + 3 + ... + n\n",
    "2. Print the S value. (E.g.) n = 4, S = 10 --> S = 1 + 2 + 3 + 4 = 10"
   ]
  },
  {
   "cell_type": "code",
   "execution_count": 21,
   "metadata": {},
   "outputs": [],
   "source": [
    "# 1. Get an integer value from user (n) and calculate the series: S = 1 + 2 + 3 + ... + n\n",
    "while True:\n",
    "    try:\n",
    "        n = int(input(\"Please enter a number of n to compute the series: \"))\n",
    "        if n > 0:\n",
    "            None\n",
    "        else:\n",
    "            print(\"else\")\n",
    "            continue\n",
    "    except:\n",
    "        print(\"Please insert only integer (E.g.) 5\")\n",
    "        continue\n",
    "    else:\n",
    "        break"
   ]
  },
  {
   "cell_type": "code",
   "execution_count": 22,
   "metadata": {},
   "outputs": [
    {
     "name": "stdout",
     "output_type": "stream",
     "text": [
      "The S for 4 using for loop:  10\n"
     ]
    }
   ],
   "source": [
    "# For loop\n",
    "for_list = []\n",
    "\n",
    "for i in range(n+1):\n",
    "    for_list.append(i)\n",
    "\n",
    "sum_for = sum(for_list)\n",
    "print(f\"The S for {n} using for loop: \", sum_for)"
   ]
  },
  {
   "cell_type": "code",
   "execution_count": 23,
   "metadata": {},
   "outputs": [
    {
     "name": "stdout",
     "output_type": "stream",
     "text": [
      "The S for 0 using while loop:  10\n"
     ]
    }
   ],
   "source": [
    "# While loop\n",
    "while_list = []\n",
    "\n",
    "while n >= 0 :\n",
    "    while_list.append(n)\n",
    "    n -= 1\n",
    "\n",
    "sum_while = sum(while_list)\n",
    "print(f\"The S for {n+1} using while loop: \", sum_while)"
   ]
  }
 ],
 "metadata": {
  "interpreter": {
   "hash": "5b84b3b12e548dba9b9d18e6c672712305720b850822670c063dc894011d2bb2"
  },
  "kernelspec": {
   "display_name": "Python 3.9.9 64-bit",
   "language": "python",
   "name": "python3"
  },
  "language_info": {
   "codemirror_mode": {
    "name": "ipython",
    "version": 3
   },
   "file_extension": ".py",
   "mimetype": "text/x-python",
   "name": "python",
   "nbconvert_exporter": "python",
   "pygments_lexer": "ipython3",
   "version": "3.9.9"
  },
  "orig_nbformat": 4
 },
 "nbformat": 4,
 "nbformat_minor": 2
}
