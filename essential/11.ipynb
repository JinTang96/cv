{
 "cells": [
  {
   "cell_type": "code",
   "execution_count": null,
   "metadata": {},
   "outputs": [],
   "source": []
  },
  {
   "cell_type": "markdown",
   "metadata": {},
   "source": [
    "# Chapter 11 \n",
    "\n"
   ]
  },
  {
   "cell_type": "markdown",
   "metadata": {},
   "source": [
    "# Introduction to OpenCV \n"
   ]
  },
  {
   "cell_type": "markdown",
   "metadata": {},
   "source": [
    "OpenCV is an open source library for image and video manipulation and processing for computer vision."
   ]
  },
  {
   "cell_type": "markdown",
   "metadata": {},
   "source": [
    "## Installation of OpenCV \n",
    "\n"
   ]
  },
  {
   "cell_type": "markdown",
   "metadata": {},
   "source": [
    "#### Install Python 3 \n"
   ]
  },
  {
   "cell_type": "markdown",
   "metadata": {},
   "source": [
    "#### Install necessary packages"
   ]
  },
  {
   "cell_type": "code",
   "execution_count": 1,
   "metadata": {},
   "outputs": [],
   "source": [
    "!pip install -q numpy\n",
    "!pip install -q opencv-contrib-python\n",
    "!pip install -q pandas\n",
    "!pip install -q matplotlib\n",
    "!pip install -q scipy"
   ]
  },
  {
   "cell_type": "markdown",
   "metadata": {},
   "source": [
    "## File and Image Basic in OpenCV\n"
   ]
  },
  {
   "cell_type": "markdown",
   "metadata": {},
   "source": [
    "### Accessing Command line argument in Python "
   ]
  },
  {
   "cell_type": "markdown",
   "metadata": {},
   "source": [
    "Since the begining of the course we have used 2 major IDE code editor.\n",
    "1. jupyter lab  (.ipynb)\n",
    "2. jupyter notebook (.ipynb)\n",
    "3. visual studio code (.ipynb or .py)\n",
    "4. pycharm (.py)\n",
    "5. spyder (.py)\n",
    "6. Thonny (.py)\n",
    "\n",
    "\n"
   ]
  },
  {
   "cell_type": "markdown",
   "metadata": {},
   "source": [
    "It is very import for us to know that the python extension or code file that can be run as a direct script must be with extension .py.\n",
    "Python executable script (code) should be in .py file."
   ]
  },
  {
   "cell_type": "markdown",
   "metadata": {},
   "source": [
    "# Example \n",
    "Create a python script file."
   ]
  },
  {
   "cell_type": "code",
   "execution_count": 3,
   "metadata": {},
   "outputs": [
    {
     "name": "stdout",
     "output_type": "stream",
     "text": [
      "commandline argument array \n",
      " ['C:\\\\Users\\\\gokel\\\\AppData\\\\Roaming\\\\Python\\\\Python39\\\\site-packages\\\\ipykernel_launcher.py', '--ip=127.0.0.1', '--stdin=9008', '--control=9006', '--hb=9005', '--Session.signature_scheme=\"hmac-sha256\"', '--Session.key=b\"936d32e2-fbbe-4e64-949b-2cd1d2c1d6e6\"', '--shell=9007', '--transport=\"tcp\"', '--iopub=9009', '--f=C:\\\\Users\\\\gokel\\\\AppData\\\\Local\\\\Temp\\\\tmp-22485bHv9gvKbBPx.json']\n",
      "\n",
      "first argument:  C:\\Users\\gokel\\AppData\\Roaming\\Python\\Python39\\site-packages\\ipykernel_launcher.py\n",
      "second argument:  --ip=127.0.0.1\n"
     ]
    }
   ],
   "source": [
    "import sys\n",
    "\n",
    "print(\"commandline argument array \\n\", sys.argv)\n",
    "print()\n",
    "print(\"first argument: \", sys.argv[0])\n",
    "print(\"second argument: \", sys.argv[1])\n"
   ]
  },
  {
   "cell_type": "markdown",
   "metadata": {},
   "source": [
    "See `test_command_line.py` file"
   ]
  },
  {
   "cell_type": "markdown",
   "metadata": {},
   "source": [
    "## Class Activity\n",
    "\n",
    "1. Create a python script file named mypy1\n",
    "2. The code is used to solve quafratic equation using formula method.\n",
    "3. Solve the following polynomial\n",
    "$$\n",
    "2x^2 + 14x - 2 = 0\n",
    "$$\n",
    "\n",
    "Formula method for:\n",
    "$$\n",
    "ax^2 + bx - c = 0\n",
    "$$\n",
    "$$\n",
    "x_1 = \\frac {-b + \\sqrt{b^2 - 4ac}} {2a}\n",
    "$$\n",
    "$$\n",
    "x_2 = \\frac {-b - \\sqrt{b^2 - 4ac}} {2a}\n",
    "$$"
   ]
  },
  {
   "cell_type": "code",
   "execution_count": 6,
   "metadata": {},
   "outputs": [
    {
     "name": "stdout",
     "output_type": "stream",
     "text": [
      "x1 = 0.1401\n",
      "x2 = -7.1401\n"
     ]
    }
   ],
   "source": [
    "# commandline variable a, b, c\n",
    "a = 2\n",
    "b = 14\n",
    "c = -2\n",
    "\n",
    "x1 = (-b + ((b**2 - 4*a*c)**0.5))/(2*a)\n",
    "x2 = (-b - ((b**2 - 4*a*c)**0.5))/(2*a)\n",
    "\n",
    "print(f'x1 = {x1:.4f}')\n",
    "print(f'x2 = {x2:.4f}')\n"
   ]
  },
  {
   "cell_type": "markdown",
   "metadata": {},
   "source": [
    "To call python file from commandline.\n",
    "\n",
    "`[path-to-python]`     `[path-to-python-file]`    `[arguements-separated-by-space]`"
   ]
  },
  {
   "cell_type": "markdown",
   "metadata": {},
   "source": [
    "### Reading and displaying image file."
   ]
  },
  {
   "cell_type": "code",
   "execution_count": 2,
   "metadata": {},
   "outputs": [
    {
     "ename": "SystemExit",
     "evalue": "Could not read the image.",
     "output_type": "error",
     "traceback": [
      "An exception has occurred, use %tb to see the full traceback.\n",
      "\u001b[1;31mSystemExit\u001b[0m\u001b[1;31m:\u001b[0m Could not read the image.\n"
     ]
    },
    {
     "name": "stderr",
     "output_type": "stream",
     "text": [
      "C:\\Users\\gokel\\AppData\\Roaming\\Python\\Python39\\site-packages\\IPython\\core\\interactiveshell.py:3452: UserWarning: To exit: use 'exit', 'quit', or Ctrl-D.\n",
      "  warn(\"To exit: use 'exit', 'quit', or Ctrl-D.\", stacklevel=1)\n"
     ]
    }
   ],
   "source": [
    "import sys\n",
    "import cv2 as cv\n",
    "import matplotlib.pyplot as plt\n",
    "\n",
    "# get the file path from command line\n",
    "filePath = sys.argv[1]\n",
    "\n",
    "# read image file\n",
    "img = cv.imread(filePath)\n",
    "\n",
    "# check if file found\n",
    "if img is None:\n",
    "    sys.exit(\"Could not read the image.\")\n",
    "\n",
    "# display file\n",
    "cv.imshow(\"Display window\", img)\n",
    "\n",
    "# pause execution here by waiting for a user to press a key\n",
    "k = cv.waitKey(0)\n",
    "\n",
    "# if user typed s save file as PNG file\n",
    "if k == ord(\"s\"):\n",
    "    cv.imwrite(\"test.png\", img)\n",
    "\n",
    "cv.destroyAllWindows()\n",
    "\n",
    "\n"
   ]
  },
  {
   "cell_type": "markdown",
   "metadata": {},
   "source": [
    "#### For file in a known folder"
   ]
  },
  {
   "cell_type": "code",
   "execution_count": 7,
   "metadata": {},
   "outputs": [],
   "source": [
    "\n",
    "import sys\n",
    "import cv2 as cv\n",
    "import matplotlib.pyplot as plt\n",
    "\n",
    "# get the file path from command line\n",
    "# filePath = sys.argv[1]\n",
    "# get sample file path for \"starry_night.jpg\"\n",
    "filePath = \"../samples/data/starry_night.jpg\"\n",
    "\n",
    "\n",
    "# read image file\n",
    "img = cv.imread(filePath)\n",
    "\n",
    "# check if file found\n",
    "if img is None:\n",
    "    sys.exit(\"Could not read the image.\")\n",
    "\n",
    "# display file\n",
    "cv.imshow(\"Display window\", img)\n",
    "\n",
    "# pause execution here by waiting for a user to press a key\n",
    "k = cv.waitKey(0)\n",
    "\n",
    "# if user typed s save file as PNG file\n",
    "if k == ord(\"s\"):\n",
    "    cv.imwrite(\"test.png\", img)\n",
    "\n",
    "cv.destroyAllWindows()\n",
    "\n",
    "\n"
   ]
  },
  {
   "cell_type": "markdown",
   "metadata": {},
   "source": [
    "## Reading Camera frames and Video Files"
   ]
  },
  {
   "cell_type": "markdown",
   "metadata": {},
   "source": [
    "Capture from camera (pass 0) for the first connected camera"
   ]
  },
  {
   "cell_type": "code",
   "execution_count": 8,
   "metadata": {},
   "outputs": [],
   "source": [
    "import cv2 as cv\n",
    "\n",
    "# get the default camera attached to your system\n",
    "capture = cv.VideoCapture(0)\n",
    "\n",
    "# check if connected\n",
    "if capture.isOpened() is False:\n",
    "    print(\"Error opening camera 0\")\n",
    "    exit()\n",
    "\n",
    "while capture.isOpened():\n",
    "    # capture frames, if read correctly ret is True\n",
    "    ret, frame = capture.read()\n",
    "\n",
    "    if not ret:\n",
    "        print(\"Didn't receive frame. Stop \")\n",
    "        break\n",
    "\n",
    "    # display frame\n",
    "    cv.imshow(\"Camera frame\", frame)\n",
    "\n",
    "    k = cv.waitKey(1)\n",
    "\n",
    "    # check if key is q then exit\n",
    "    if k == ord(\"q\"):\n",
    "        break\n",
    "\n",
    "capture.release()\n",
    "cv.destroyAllWindows()\n",
    "\n"
   ]
  },
  {
   "cell_type": "markdown",
   "metadata": {},
   "source": [
    "## Class Activity\n",
    "\n",
    "Use pyplot to replace the opencv in the code above."
   ]
  },
  {
   "cell_type": "code",
   "execution_count": 11,
   "metadata": {},
   "outputs": [
    {
     "ename": "KeyboardInterrupt",
     "evalue": "",
     "output_type": "error",
     "traceback": [
      "\u001b[1;31m---------------------------------------------------------------------------\u001b[0m",
      "\u001b[1;31mKeyboardInterrupt\u001b[0m                         Traceback (most recent call last)",
      "\u001b[1;32m~\\AppData\\Local\\Temp/ipykernel_7448/1508905237.py\u001b[0m in \u001b[0;36m<module>\u001b[1;34m\u001b[0m\n\u001b[0;32m     22\u001b[0m \u001b[1;33m\u001b[0m\u001b[0m\n\u001b[0;32m     23\u001b[0m     \u001b[1;31m# display frame\u001b[0m\u001b[1;33m\u001b[0m\u001b[1;33m\u001b[0m\u001b[1;33m\u001b[0m\u001b[0m\n\u001b[1;32m---> 24\u001b[1;33m     \u001b[0mplt\u001b[0m\u001b[1;33m.\u001b[0m\u001b[0mimshow\u001b[0m\u001b[1;33m(\u001b[0m\u001b[0mframe\u001b[0m\u001b[1;33m)\u001b[0m\u001b[1;33m\u001b[0m\u001b[1;33m\u001b[0m\u001b[0m\n\u001b[0m\u001b[0;32m     25\u001b[0m \u001b[1;33m\u001b[0m\u001b[0m\n\u001b[0;32m     26\u001b[0m     \u001b[1;31m# k = cv.waitKey(1)\u001b[0m\u001b[1;33m\u001b[0m\u001b[1;33m\u001b[0m\u001b[1;33m\u001b[0m\u001b[0m\n",
      "\u001b[1;32m~\\AppData\\Roaming\\Python\\Python39\\site-packages\\matplotlib\\pyplot.py\u001b[0m in \u001b[0;36mimshow\u001b[1;34m(X, cmap, norm, aspect, interpolation, alpha, vmin, vmax, origin, extent, filternorm, filterrad, resample, url, data, **kwargs)\u001b[0m\n\u001b[0;32m   2901\u001b[0m         \u001b[0mfilternorm\u001b[0m\u001b[1;33m=\u001b[0m\u001b[1;32mTrue\u001b[0m\u001b[1;33m,\u001b[0m \u001b[0mfilterrad\u001b[0m\u001b[1;33m=\u001b[0m\u001b[1;36m4.0\u001b[0m\u001b[1;33m,\u001b[0m \u001b[0mresample\u001b[0m\u001b[1;33m=\u001b[0m\u001b[1;32mNone\u001b[0m\u001b[1;33m,\u001b[0m \u001b[0murl\u001b[0m\u001b[1;33m=\u001b[0m\u001b[1;32mNone\u001b[0m\u001b[1;33m,\u001b[0m\u001b[1;33m\u001b[0m\u001b[1;33m\u001b[0m\u001b[0m\n\u001b[0;32m   2902\u001b[0m         data=None, **kwargs):\n\u001b[1;32m-> 2903\u001b[1;33m     __ret = gca().imshow(\n\u001b[0m\u001b[0;32m   2904\u001b[0m         \u001b[0mX\u001b[0m\u001b[1;33m,\u001b[0m \u001b[0mcmap\u001b[0m\u001b[1;33m=\u001b[0m\u001b[0mcmap\u001b[0m\u001b[1;33m,\u001b[0m \u001b[0mnorm\u001b[0m\u001b[1;33m=\u001b[0m\u001b[0mnorm\u001b[0m\u001b[1;33m,\u001b[0m \u001b[0maspect\u001b[0m\u001b[1;33m=\u001b[0m\u001b[0maspect\u001b[0m\u001b[1;33m,\u001b[0m\u001b[1;33m\u001b[0m\u001b[1;33m\u001b[0m\u001b[0m\n\u001b[0;32m   2905\u001b[0m         \u001b[0minterpolation\u001b[0m\u001b[1;33m=\u001b[0m\u001b[0minterpolation\u001b[0m\u001b[1;33m,\u001b[0m \u001b[0malpha\u001b[0m\u001b[1;33m=\u001b[0m\u001b[0malpha\u001b[0m\u001b[1;33m,\u001b[0m \u001b[0mvmin\u001b[0m\u001b[1;33m=\u001b[0m\u001b[0mvmin\u001b[0m\u001b[1;33m,\u001b[0m\u001b[1;33m\u001b[0m\u001b[1;33m\u001b[0m\u001b[0m\n",
      "\u001b[1;32m~\\AppData\\Roaming\\Python\\Python39\\site-packages\\matplotlib\\__init__.py\u001b[0m in \u001b[0;36minner\u001b[1;34m(ax, data, *args, **kwargs)\u001b[0m\n\u001b[0;32m   1359\u001b[0m     \u001b[1;32mdef\u001b[0m \u001b[0minner\u001b[0m\u001b[1;33m(\u001b[0m\u001b[0max\u001b[0m\u001b[1;33m,\u001b[0m \u001b[1;33m*\u001b[0m\u001b[0margs\u001b[0m\u001b[1;33m,\u001b[0m \u001b[0mdata\u001b[0m\u001b[1;33m=\u001b[0m\u001b[1;32mNone\u001b[0m\u001b[1;33m,\u001b[0m \u001b[1;33m**\u001b[0m\u001b[0mkwargs\u001b[0m\u001b[1;33m)\u001b[0m\u001b[1;33m:\u001b[0m\u001b[1;33m\u001b[0m\u001b[1;33m\u001b[0m\u001b[0m\n\u001b[0;32m   1360\u001b[0m         \u001b[1;32mif\u001b[0m \u001b[0mdata\u001b[0m \u001b[1;32mis\u001b[0m \u001b[1;32mNone\u001b[0m\u001b[1;33m:\u001b[0m\u001b[1;33m\u001b[0m\u001b[1;33m\u001b[0m\u001b[0m\n\u001b[1;32m-> 1361\u001b[1;33m             \u001b[1;32mreturn\u001b[0m \u001b[0mfunc\u001b[0m\u001b[1;33m(\u001b[0m\u001b[0max\u001b[0m\u001b[1;33m,\u001b[0m \u001b[1;33m*\u001b[0m\u001b[0mmap\u001b[0m\u001b[1;33m(\u001b[0m\u001b[0msanitize_sequence\u001b[0m\u001b[1;33m,\u001b[0m \u001b[0margs\u001b[0m\u001b[1;33m)\u001b[0m\u001b[1;33m,\u001b[0m \u001b[1;33m**\u001b[0m\u001b[0mkwargs\u001b[0m\u001b[1;33m)\u001b[0m\u001b[1;33m\u001b[0m\u001b[1;33m\u001b[0m\u001b[0m\n\u001b[0m\u001b[0;32m   1362\u001b[0m \u001b[1;33m\u001b[0m\u001b[0m\n\u001b[0;32m   1363\u001b[0m         \u001b[0mbound\u001b[0m \u001b[1;33m=\u001b[0m \u001b[0mnew_sig\u001b[0m\u001b[1;33m.\u001b[0m\u001b[0mbind\u001b[0m\u001b[1;33m(\u001b[0m\u001b[0max\u001b[0m\u001b[1;33m,\u001b[0m \u001b[1;33m*\u001b[0m\u001b[0margs\u001b[0m\u001b[1;33m,\u001b[0m \u001b[1;33m**\u001b[0m\u001b[0mkwargs\u001b[0m\u001b[1;33m)\u001b[0m\u001b[1;33m\u001b[0m\u001b[1;33m\u001b[0m\u001b[0m\n",
      "\u001b[1;32m~\\AppData\\Roaming\\Python\\Python39\\site-packages\\matplotlib\\axes\\_axes.py\u001b[0m in \u001b[0;36mimshow\u001b[1;34m(self, X, cmap, norm, aspect, interpolation, alpha, vmin, vmax, origin, extent, filternorm, filterrad, resample, url, **kwargs)\u001b[0m\n\u001b[0;32m   5607\u001b[0m                               resample=resample, **kwargs)\n\u001b[0;32m   5608\u001b[0m \u001b[1;33m\u001b[0m\u001b[0m\n\u001b[1;32m-> 5609\u001b[1;33m         \u001b[0mim\u001b[0m\u001b[1;33m.\u001b[0m\u001b[0mset_data\u001b[0m\u001b[1;33m(\u001b[0m\u001b[0mX\u001b[0m\u001b[1;33m)\u001b[0m\u001b[1;33m\u001b[0m\u001b[1;33m\u001b[0m\u001b[0m\n\u001b[0m\u001b[0;32m   5610\u001b[0m         \u001b[0mim\u001b[0m\u001b[1;33m.\u001b[0m\u001b[0mset_alpha\u001b[0m\u001b[1;33m(\u001b[0m\u001b[0malpha\u001b[0m\u001b[1;33m)\u001b[0m\u001b[1;33m\u001b[0m\u001b[1;33m\u001b[0m\u001b[0m\n\u001b[0;32m   5611\u001b[0m         \u001b[1;32mif\u001b[0m \u001b[0mim\u001b[0m\u001b[1;33m.\u001b[0m\u001b[0mget_clip_path\u001b[0m\u001b[1;33m(\u001b[0m\u001b[1;33m)\u001b[0m \u001b[1;32mis\u001b[0m \u001b[1;32mNone\u001b[0m\u001b[1;33m:\u001b[0m\u001b[1;33m\u001b[0m\u001b[1;33m\u001b[0m\u001b[0m\n",
      "\u001b[1;32m~\\AppData\\Roaming\\Python\\Python39\\site-packages\\matplotlib\\image.py\u001b[0m in \u001b[0;36mset_data\u001b[1;34m(self, A)\u001b[0m\n\u001b[0;32m    716\u001b[0m             \u001b[1;31m# making reliable interpretation impossible.\u001b[0m\u001b[1;33m\u001b[0m\u001b[1;33m\u001b[0m\u001b[1;33m\u001b[0m\u001b[0m\n\u001b[0;32m    717\u001b[0m             \u001b[0mhigh\u001b[0m \u001b[1;33m=\u001b[0m \u001b[1;36m255\u001b[0m \u001b[1;32mif\u001b[0m \u001b[0mnp\u001b[0m\u001b[1;33m.\u001b[0m\u001b[0missubdtype\u001b[0m\u001b[1;33m(\u001b[0m\u001b[0mself\u001b[0m\u001b[1;33m.\u001b[0m\u001b[0m_A\u001b[0m\u001b[1;33m.\u001b[0m\u001b[0mdtype\u001b[0m\u001b[1;33m,\u001b[0m \u001b[0mnp\u001b[0m\u001b[1;33m.\u001b[0m\u001b[0minteger\u001b[0m\u001b[1;33m)\u001b[0m \u001b[1;32melse\u001b[0m \u001b[1;36m1\u001b[0m\u001b[1;33m\u001b[0m\u001b[1;33m\u001b[0m\u001b[0m\n\u001b[1;32m--> 718\u001b[1;33m             \u001b[1;32mif\u001b[0m \u001b[0mself\u001b[0m\u001b[1;33m.\u001b[0m\u001b[0m_A\u001b[0m\u001b[1;33m.\u001b[0m\u001b[0mmin\u001b[0m\u001b[1;33m(\u001b[0m\u001b[1;33m)\u001b[0m \u001b[1;33m<\u001b[0m \u001b[1;36m0\u001b[0m \u001b[1;32mor\u001b[0m \u001b[0mhigh\u001b[0m \u001b[1;33m<\u001b[0m \u001b[0mself\u001b[0m\u001b[1;33m.\u001b[0m\u001b[0m_A\u001b[0m\u001b[1;33m.\u001b[0m\u001b[0mmax\u001b[0m\u001b[1;33m(\u001b[0m\u001b[1;33m)\u001b[0m\u001b[1;33m:\u001b[0m\u001b[1;33m\u001b[0m\u001b[1;33m\u001b[0m\u001b[0m\n\u001b[0m\u001b[0;32m    719\u001b[0m                 _log.warning(\n\u001b[0;32m    720\u001b[0m                     \u001b[1;34m'Clipping input data to the valid range for imshow with '\u001b[0m\u001b[1;33m\u001b[0m\u001b[1;33m\u001b[0m\u001b[0m\n",
      "\u001b[1;32m~\\AppData\\Roaming\\Python\\Python39\\site-packages\\numpy\\ma\\core.py\u001b[0m in \u001b[0;36mmax\u001b[1;34m(self, axis, out, fill_value, keepdims)\u001b[0m\n\u001b[0;32m   5832\u001b[0m         \u001b[1;31m# No explicit output\u001b[0m\u001b[1;33m\u001b[0m\u001b[1;33m\u001b[0m\u001b[1;33m\u001b[0m\u001b[0m\n\u001b[0;32m   5833\u001b[0m         \u001b[1;32mif\u001b[0m \u001b[0mout\u001b[0m \u001b[1;32mis\u001b[0m \u001b[1;32mNone\u001b[0m\u001b[1;33m:\u001b[0m\u001b[1;33m\u001b[0m\u001b[1;33m\u001b[0m\u001b[0m\n\u001b[1;32m-> 5834\u001b[1;33m             result = self.filled(fill_value).max(\n\u001b[0m\u001b[0;32m   5835\u001b[0m                 axis=axis, out=out, **kwargs).view(type(self))\n\u001b[0;32m   5836\u001b[0m             \u001b[1;32mif\u001b[0m \u001b[0mresult\u001b[0m\u001b[1;33m.\u001b[0m\u001b[0mndim\u001b[0m\u001b[1;33m:\u001b[0m\u001b[1;33m\u001b[0m\u001b[1;33m\u001b[0m\u001b[0m\n",
      "\u001b[1;32m~\\AppData\\Roaming\\Python\\Python39\\site-packages\\numpy\\core\\_methods.py\u001b[0m in \u001b[0;36m_amax\u001b[1;34m(a, axis, out, keepdims, initial, where)\u001b[0m\n\u001b[0;32m     37\u001b[0m def _amax(a, axis=None, out=None, keepdims=False,\n\u001b[0;32m     38\u001b[0m           initial=_NoValue, where=True):\n\u001b[1;32m---> 39\u001b[1;33m     \u001b[1;32mreturn\u001b[0m \u001b[0mumr_maximum\u001b[0m\u001b[1;33m(\u001b[0m\u001b[0ma\u001b[0m\u001b[1;33m,\u001b[0m \u001b[0maxis\u001b[0m\u001b[1;33m,\u001b[0m \u001b[1;32mNone\u001b[0m\u001b[1;33m,\u001b[0m \u001b[0mout\u001b[0m\u001b[1;33m,\u001b[0m \u001b[0mkeepdims\u001b[0m\u001b[1;33m,\u001b[0m \u001b[0minitial\u001b[0m\u001b[1;33m,\u001b[0m \u001b[0mwhere\u001b[0m\u001b[1;33m)\u001b[0m\u001b[1;33m\u001b[0m\u001b[1;33m\u001b[0m\u001b[0m\n\u001b[0m\u001b[0;32m     40\u001b[0m \u001b[1;33m\u001b[0m\u001b[0m\n\u001b[0;32m     41\u001b[0m def _amin(a, axis=None, out=None, keepdims=False,\n",
      "\u001b[1;31mKeyboardInterrupt\u001b[0m: "
     ]
    }
   ],
   "source": [
    "## Class Activity\n",
    "# Use pyplot to replace the opencv in the code above.\n",
    "\n",
    "import cv2 as cv\n",
    "import matplotlib.pyplot as plt\n",
    "\n",
    "# get the default camera attached to your system\n",
    "capture = cv.VideoCapture(0)\n",
    "\n",
    "# check if connected\n",
    "if capture.isOpened() is False:\n",
    "    print(\"Error opening camera 0\")\n",
    "    exit()\n",
    "\n",
    "while capture.isOpened():\n",
    "    # capture frames, if read correctly ret is True\n",
    "    ret, frame = capture.read()\n",
    "\n",
    "    if not ret:\n",
    "        print(\"Didn't receive frame. Stop \")\n",
    "        break\n",
    "\n",
    "    # display frame\n",
    "    plt.imshow(frame)\n",
    "\n",
    "    # k = cv.waitKey(1)\n",
    "\n",
    "    # # check if key is q then exit\n",
    "    # if k == ord(\"q\"):\n",
    "    #     break\n",
    "\n",
    "capture.release()\n",
    "# cv.destroyAllWindows()\n",
    "\n"
   ]
  },
  {
   "cell_type": "markdown",
   "metadata": {},
   "source": [
    "Display the caputre frame as gray."
   ]
  },
  {
   "cell_type": "code",
   "execution_count": 2,
   "metadata": {},
   "outputs": [],
   "source": [
    "import cv2 as cv\n",
    "\n",
    "# get the default camera\n",
    "capture = cv.VideoCapture(0)\n",
    "\n",
    "# check if connected\n",
    "if capture.isOpened() is False:\n",
    "    print(\"Error opening camera 0\")\n",
    "    exit()\n",
    "\n",
    "while capture.isOpened():\n",
    "    # capture frames, if read correctly ret is True\n",
    "    ret, frame = capture.read()\n",
    "\n",
    "    if not ret:\n",
    "        print(\"Didn't receive frame. Stop \")\n",
    "        break\n",
    "\n",
    "    frame_gray = cv.cvtColor(frame, cv.COLOR_BGR2GRAY)\n",
    "    # display frame\n",
    "    cv.imshow(\"Camera frame\", frame_gray)\n",
    "\n",
    "    k = cv.waitKey(10)\n",
    "\n",
    "    # check if key is q then exit\n",
    "    if k == ord(\"q\"):\n",
    "        break\n",
    "\n",
    "capture.release()\n",
    "cv.destroyAllWindows()\n",
    "\n"
   ]
  },
  {
   "cell_type": "markdown",
   "metadata": {},
   "source": [
    "Flip the captured frames"
   ]
  },
  {
   "cell_type": "code",
   "execution_count": 3,
   "metadata": {},
   "outputs": [],
   "source": [
    "import cv2 as cv\n",
    "\n",
    "FLIP_VERTICAL = 0\n",
    "FLIP_HORIZONTAL = 1\n",
    "FLIP_SYMMETRICAL = -1\n",
    "\n",
    "capture = cv.VideoCapture(0)\n",
    "# check if connected\n",
    "if capture.isOpened() is False:\n",
    "    print(\"Error opening camera 0\")\n",
    "    exit()\n",
    "\n",
    "while capture.isOpened():\n",
    "    # capture frames, if read correctly ret is True\n",
    "    ret, frame = capture.read()\n",
    "\n",
    "    if not ret:\n",
    "        print(\"Didn't receive frame. Stop \")\n",
    "        break\n",
    "\n",
    "    # display frame\n",
    "\n",
    "    frame_flipped = cv.flip(frame, FLIP_SYMMETRICAL)\n",
    "    cv.imshow(\"Camera frame\", frame_flipped)\n",
    "\n",
    "    k = cv.waitKey(1)\n",
    "\n",
    "    # check if key is q then exit\n",
    "    if k == ord(\"q\"):\n",
    "        break\n",
    "\n",
    "capture.release()\n",
    "cv.destroyAllWindows()\n",
    "\n"
   ]
  },
  {
   "cell_type": "markdown",
   "metadata": {},
   "source": [
    "### Saving camera frames"
   ]
  },
  {
   "cell_type": "code",
   "execution_count": 4,
   "metadata": {},
   "outputs": [],
   "source": [
    "import cv2 as cv\n",
    "\n",
    "# get the default camera\n",
    "capture = cv.VideoCapture(0)\n",
    "\n",
    "# check if connected\n",
    "if capture.isOpened() is False:\n",
    "    print(\"Error opening camera 0\")\n",
    "    exit()\n",
    "\n",
    "while capture.isOpened():\n",
    "    # capture frames, if read correctly ret is True\n",
    "    ret, frame = capture.read()\n",
    "\n",
    "    if not ret:\n",
    "        print(\"Didn't receive frame. Stop \")\n",
    "        break\n",
    "\n",
    "    # display frame\n",
    "    cv.imshow(\"Camera frame\", frame)\n",
    "\n",
    "    k = cv.waitKey(1)\n",
    "\n",
    "    # check if key is s then save frame\n",
    "    if k == ord(\"s\"):\n",
    "        # save color frame\n",
    "        cv.imwrite('frame.png', frame)\n",
    "        # convert frame to gray\n",
    "        frame_gray = cv.cvtColor(frame, cv.COLOR_BGR2GRAY)\n",
    "        # save gray frame\n",
    "        cv.imwrite('frame_gray.png', frame_gray)\n",
    "\n",
    "    # check if key is q then exit\n",
    "    if k == ord(\"q\"):\n",
    "        break\n",
    "\n",
    "capture.release()\n",
    "cv.destroyAllWindows()\n",
    "\n"
   ]
  },
  {
   "cell_type": "markdown",
   "metadata": {},
   "source": [
    "### Saving camera Video\n"
   ]
  },
  {
   "cell_type": "code",
   "execution_count": 5,
   "metadata": {},
   "outputs": [],
   "source": [
    "import cv2 as cv\n",
    "\n",
    "\n",
    "capture = cv.VideoCapture(0)\n",
    "# check if connected\n",
    "if capture.isOpened() is False:\n",
    "    print(\"Error opening camera 0\")\n",
    "    exit()\n",
    "\n",
    "# Define the codec and create VideoWriter object\n",
    "fourcc = cv.VideoWriter_fourcc(*'XVID')\n",
    "video_out = cv.VideoWriter('output2.avi', fourcc, 20.0, (640,  480))\n",
    "\n",
    "while capture.isOpened():\n",
    "    # capture frames, if read correctly ret is True\n",
    "    ret, frame = capture.read()\n",
    "\n",
    "    if not ret:\n",
    "        print(\"Didn't receive frame. Stop \")\n",
    "        break\n",
    "\n",
    "    # write the flipped frame\n",
    "    video_out.write(frame)\n",
    "    \n",
    "    # display frame\n",
    "    cv.imshow(\"Camera frame\", frame)\n",
    "\n",
    "    k = cv.waitKey(1) \n",
    "    # check if key is q then exit\n",
    "    if k == ord(\"q\"):\n",
    "        break\n",
    "\n",
    "capture.release()\n",
    "video_out.release()\n",
    "cv.destroyAllWindows()\n",
    "\n"
   ]
  },
  {
   "cell_type": "markdown",
   "metadata": {},
   "source": [
    "### Reading a video file"
   ]
  },
  {
   "cell_type": "code",
   "execution_count": 6,
   "metadata": {},
   "outputs": [
    {
     "name": "stdout",
     "output_type": "stream",
     "text": [
      "Didn't receive frame. Stop \n"
     ]
    }
   ],
   "source": [
    "\n",
    "import sys\n",
    "import cv2 as cv\n",
    "import matplotlib.pyplot as plt\n",
    "\n",
    "# get the file path from command line\n",
    "# filePath = sys.argv[1]\n",
    "# get sample file path for \"starry_night.jpg\"\n",
    "filePath = \"../samples/data/vtest.avi\"\n",
    "\n",
    "capture = cv.VideoCapture(filePath)\n",
    "\n",
    "# check if connected\n",
    "if capture.isOpened() is False:\n",
    "    print(\"Error opening camera 0\")\n",
    "    exit()\n",
    "\n",
    "while capture.isOpened():\n",
    "    # capture frames, if read correctly ret is True\n",
    "    ret, frame = capture.read()\n",
    "\n",
    "    if not ret:\n",
    "        print(\"Didn't receive frame. Stop \")\n",
    "        break\n",
    "\n",
    "    # display frame\n",
    "    cv.imshow(\"Camera frame\", frame)\n",
    "\n",
    "    k = cv.waitKey(10)\n",
    "\n",
    "    # check if key is q then exit\n",
    "    if k == ord(\"q\"):\n",
    "        break\n",
    "\n",
    "capture.release()\n",
    "cv.destroyAllWindows()\n"
   ]
  },
  {
   "cell_type": "markdown",
   "metadata": {},
   "source": [
    "## Class Ativity\n",
    "Read and Load any video file from your pc."
   ]
  },
  {
   "cell_type": "markdown",
   "metadata": {},
   "source": [
    "### Read video file and display in Gray"
   ]
  },
  {
   "cell_type": "code",
   "execution_count": 4,
   "metadata": {},
   "outputs": [],
   "source": [
    "import sys\n",
    "import cv2 as cv\n",
    "\n",
    "# get the file path from command line\n",
    "# filePath = sys.argv[1]\n",
    "filePath = \"../samples/data/vtest.avi\"\n",
    "\n",
    "capture = cv.VideoCapture(filePath)\n",
    "\n",
    "# check if connected\n",
    "if capture.isOpened() is False:\n",
    "    print(\"Error opening camera 0\")\n",
    "    exit()\n",
    "\n",
    "while capture.isOpened():\n",
    "    # capture frames, if read correctly ret is True\n",
    "    ret, frame = capture.read()\n",
    "\n",
    "    if not ret:\n",
    "        print(\"Didn't receive frame. Stop \")\n",
    "        break\n",
    "\n",
    "    frame_gray = cv.cvtColor(frame, cv.COLOR_BGR2GRAY)\n",
    "    # display frame\n",
    "    cv.imshow(\"Camera frame\", frame_gray)\n",
    "\n",
    "    k = cv.waitKey(10)\n",
    "\n",
    "    # check if key is q then exit\n",
    "    if k == ord(\"q\"):\n",
    "        break\n",
    "\n",
    "capture.release()\n",
    "cv.destroyAllWindows()\n"
   ]
  },
  {
   "cell_type": "markdown",
   "metadata": {},
   "source": [
    "### Reading and displaying video from an IP camera"
   ]
  },
  {
   "cell_type": "code",
   "execution_count": 7,
   "metadata": {},
   "outputs": [
    {
     "ename": "KeyboardInterrupt",
     "evalue": "",
     "output_type": "error",
     "traceback": [
      "\u001b[1;31m---------------------------------------------------------------------------\u001b[0m",
      "\u001b[1;31mKeyboardInterrupt\u001b[0m                         Traceback (most recent call last)",
      "\u001b[1;32m~\\AppData\\Local\\Temp/ipykernel_15920/1867158384.py\u001b[0m in \u001b[0;36m<module>\u001b[1;34m\u001b[0m\n\u001b[0;32m      6\u001b[0m \u001b[0mfilePath\u001b[0m \u001b[1;33m=\u001b[0m \u001b[1;34m\"http://217.126.89.102:8010/axis-cgi/mjpg/video.cgi\"\u001b[0m\u001b[1;33m\u001b[0m\u001b[1;33m\u001b[0m\u001b[0m\n\u001b[0;32m      7\u001b[0m \u001b[1;33m\u001b[0m\u001b[0m\n\u001b[1;32m----> 8\u001b[1;33m \u001b[0mcapture\u001b[0m \u001b[1;33m=\u001b[0m \u001b[0mcv\u001b[0m\u001b[1;33m.\u001b[0m\u001b[0mVideoCapture\u001b[0m\u001b[1;33m(\u001b[0m\u001b[0mfilePath\u001b[0m\u001b[1;33m)\u001b[0m\u001b[1;33m\u001b[0m\u001b[1;33m\u001b[0m\u001b[0m\n\u001b[0m\u001b[0;32m      9\u001b[0m \u001b[1;33m\u001b[0m\u001b[0m\n\u001b[0;32m     10\u001b[0m \u001b[1;31m# check if connected\u001b[0m\u001b[1;33m\u001b[0m\u001b[1;33m\u001b[0m\u001b[1;33m\u001b[0m\u001b[0m\n",
      "\u001b[1;31mKeyboardInterrupt\u001b[0m: "
     ]
    }
   ],
   "source": [
    "import sys\n",
    "import cv2 as cv\n",
    "\n",
    "# get the file path from command line\n",
    "# filePath = sys.argv[1]\n",
    "filePath = \"http://217.126.89.102:8010/axis-cgi/mjpg/video.cgi\"\n",
    "\n",
    "capture = cv.VideoCapture(filePath)\n",
    "\n",
    "# check if connected\n",
    "if capture.isOpened() is False:\n",
    "    print(\"Error opening ip camera \")\n",
    "    exit()\n",
    "\n",
    "while capture.isOpened():\n",
    "    # capture frames, if read correctly ret is True\n",
    "    ret, frame = capture.read()\n",
    "\n",
    "    if not ret:\n",
    "        print(\"Didn't receive frame. Stop \")\n",
    "        break\n",
    "\n",
    "    frame_gray = cv.cvtColor(frame, cv.COLOR_BGR2GRAY)\n",
    "    # display frame\n",
    "    cv.imshow(\"Camera frame\", frame_gray)\n",
    "\n",
    "    k = cv.waitKey(10)\n",
    "\n",
    "    # check if key is q then exit\n",
    "    if k == ord(\"q\"):\n",
    "        break\n",
    "\n",
    "capture.release()\n",
    "cv.destroyAllWindows()\n"
   ]
  },
  {
   "cell_type": "markdown",
   "metadata": {},
   "source": [
    "Accessing capture object properties"
   ]
  },
  {
   "cell_type": "code",
   "execution_count": 8,
   "metadata": {},
   "outputs": [
    {
     "name": "stdout",
     "output_type": "stream",
     "text": [
      "CV_CAP_PROP_FRAME_WIDTH: 640.0\n",
      "CV_CAP_PROP_FRAME_HEIGHT : 480.0\n",
      "CAP_PROP_FPS : 30.0\n"
     ]
    }
   ],
   "source": [
    "import sys\n",
    "import cv2 as cv\n",
    "\n",
    "# get the file path from command line\n",
    "# filePath = sys.argv[1]\n",
    "filePath = 0\n",
    "\n",
    "capture = cv.VideoCapture(filePath)\n",
    "\n",
    "# get some properties\n",
    "frame_width = capture.get(cv.CAP_PROP_FRAME_WIDTH)\n",
    "frame_height = capture.get(cv.CAP_PROP_FRAME_HEIGHT)\n",
    "fps = capture.get(cv.CAP_PROP_FPS)\n",
    "\n",
    "print(f\"CV_CAP_PROP_FRAME_WIDTH: {frame_width}\")\n",
    "print(f\"CV_CAP_PROP_FRAME_HEIGHT : {frame_height}\")\n",
    "print(f\"CAP_PROP_FPS : {fps}\")\n",
    "\n",
    "# check if connected\n",
    "if capture.isOpened() is False:\n",
    "    print(\"Error opening ip camera \")\n",
    "    exit()\n",
    "\n",
    "while capture.isOpened():\n",
    "    # capture frames, if read correctly ret is True\n",
    "    ret, frame = capture.read()\n",
    "\n",
    "    if not ret:\n",
    "        print(\"Didn't receive frame. Stop \")\n",
    "        break\n",
    "\n",
    "    frame_gray = cv.cvtColor(frame, cv.COLOR_BGR2GRAY)\n",
    "    # display frame\n",
    "    cv.imshow(\"Camera frame\", frame_gray)\n",
    "\n",
    "    k = cv.waitKey(10)\n",
    "\n",
    "    # check if key is q then exit\n",
    "    if k == ord(\"q\"):\n",
    "        break\n",
    "\n",
    "capture.release()\n",
    "cv.destroyAllWindows()\n"
   ]
  },
  {
   "cell_type": "markdown",
   "metadata": {},
   "source": [
    "### Capture Properties"
   ]
  },
  {
   "cell_type": "code",
   "execution_count": 2,
   "metadata": {},
   "outputs": [
    {
     "name": "stdout",
     "output_type": "stream",
     "text": [
      "CV_CAP_PROP_FRAME_WIDTH: '640.0'\n",
      "CV_CAP_PROP_FRAME_HEIGHT : '480.0'\n",
      "CAP_PROP_FPS : '30.0'\n",
      "CAP_PROP_POS_MSEC : '0.0'\n",
      "CAP_PROP_POS_FRAMES : '0.0'\n",
      "CAP_PROP_FRAME_COUNT : '-1.0'\n",
      "CAP_PROP_MODE : '1.0'\n",
      "CAP_PROP_BRIGHTNESS : '66.0'\n",
      "CAP_PROP_CONTRAST : '5.0'\n",
      "CAP_PROP_SATURATION : '32.0'\n",
      "CAP_PROP_HUE : '-1.0'\n",
      "CAP_PROP_GAIN : '-1.0'\n",
      "CAP_PROP_EXPOSURE : '-6.0'\n",
      "CAP_PROP_CONVERT_RGB : '1.0'\n",
      "CAP_PROP_RECTIFICATION : '-1.0'\n",
      "CAP_PROP_ISO_SPEED : '-1.0'\n",
      "CAP_PROP_BUFFERSIZE : '-1.0'\n"
     ]
    }
   ],
   "source": [
    "import cv2\n",
    "\n",
    "# get the file path from command line\n",
    "# filePath = sys.argv[1]\n",
    "filePath = 0\n",
    "\n",
    "capture = cv2.VideoCapture(filePath)\n",
    "\n",
    "print(\"CV_CAP_PROP_FRAME_WIDTH: '{}'\".format(capture.get(cv2.CAP_PROP_FRAME_WIDTH)))\n",
    "print(\"CV_CAP_PROP_FRAME_HEIGHT : '{}'\".format(capture.get(cv2.CAP_PROP_FRAME_HEIGHT)))\n",
    "print(\"CAP_PROP_FPS : '{}'\".format(capture.get(cv2.CAP_PROP_FPS)))\n",
    "print(\"CAP_PROP_POS_MSEC : '{}'\".format(capture.get(cv2.CAP_PROP_POS_MSEC)))\n",
    "print(\"CAP_PROP_POS_FRAMES : '{}'\".format(capture.get(cv2.CAP_PROP_POS_FRAMES)))\n",
    "print(\"CAP_PROP_FRAME_COUNT : '{}'\".format(capture.get(cv2.CAP_PROP_FRAME_COUNT)))\n",
    "print(\"CAP_PROP_MODE : '{}'\".format(capture.get(cv2.CAP_PROP_MODE)))\n",
    "print(\"CAP_PROP_BRIGHTNESS : '{}'\".format(capture.get(cv2.CAP_PROP_BRIGHTNESS)))\n",
    "print(\"CAP_PROP_CONTRAST : '{}'\".format(capture.get(cv2.CAP_PROP_CONTRAST)))\n",
    "print(\"CAP_PROP_SATURATION : '{}'\".format(capture.get(cv2.CAP_PROP_SATURATION)))\n",
    "print(\"CAP_PROP_HUE : '{}'\".format(capture.get(cv2.CAP_PROP_HUE)))\n",
    "print(\"CAP_PROP_GAIN : '{}'\".format(capture.get(cv2.CAP_PROP_GAIN)))\n",
    "print(\"CAP_PROP_EXPOSURE : '{}'\".format(capture.get(cv2.CAP_PROP_EXPOSURE)))\n",
    "print(\"CAP_PROP_CONVERT_RGB : '{}'\".format(capture.get(cv2.CAP_PROP_CONVERT_RGB)))\n",
    "print(\"CAP_PROP_RECTIFICATION : '{}'\".format(capture.get(cv2.CAP_PROP_RECTIFICATION)))\n",
    "print(\"CAP_PROP_ISO_SPEED : '{}'\".format(capture.get(cv2.CAP_PROP_ISO_SPEED)))\n",
    "print(\"CAP_PROP_BUFFERSIZE : '{}'\".format(capture.get(cv2.CAP_PROP_BUFFERSIZE)))"
   ]
  },
  {
   "cell_type": "code",
   "execution_count": 3,
   "metadata": {},
   "outputs": [
    {
     "name": "stdout",
     "output_type": "stream",
     "text": [
      "CV_CAP_PROP_FRAME_WIDTH: '768.0'\n",
      "CV_CAP_PROP_FRAME_HEIGHT : '576.0'\n",
      "CAP_PROP_FPS : '10.0'\n",
      "CAP_PROP_POS_MSEC : '0.0'\n",
      "CAP_PROP_POS_FRAMES : '0.0'\n",
      "CAP_PROP_FRAME_COUNT : '795.0'\n",
      "CAP_PROP_MODE : '0.0'\n",
      "CAP_PROP_BRIGHTNESS : '0.0'\n",
      "CAP_PROP_CONTRAST : '0.0'\n",
      "CAP_PROP_SATURATION : '0.0'\n",
      "CAP_PROP_HUE : '0.0'\n",
      "CAP_PROP_GAIN : '0.0'\n",
      "CAP_PROP_EXPOSURE : '0.0'\n",
      "CAP_PROP_CONVERT_RGB : '0.0'\n",
      "CAP_PROP_RECTIFICATION : '0.0'\n",
      "CAP_PROP_ISO_SPEED : '0.0'\n",
      "CAP_PROP_BUFFERSIZE : '0.0'\n"
     ]
    }
   ],
   "source": [
    "import cv2\n",
    "\n",
    "# get the file path from command line\n",
    "# filePath = sys.argv[1]\n",
    "filePath = \"../samples/data/vtest.avi\"\n",
    "\n",
    "capture = cv2.VideoCapture(filePath)\n",
    "\n",
    "print(\"CV_CAP_PROP_FRAME_WIDTH: '{}'\".format(capture.get(cv2.CAP_PROP_FRAME_WIDTH)))\n",
    "print(\"CV_CAP_PROP_FRAME_HEIGHT : '{}'\".format(capture.get(cv2.CAP_PROP_FRAME_HEIGHT)))\n",
    "print(\"CAP_PROP_FPS : '{}'\".format(capture.get(cv2.CAP_PROP_FPS)))\n",
    "print(\"CAP_PROP_POS_MSEC : '{}'\".format(capture.get(cv2.CAP_PROP_POS_MSEC)))\n",
    "print(\"CAP_PROP_POS_FRAMES : '{}'\".format(capture.get(cv2.CAP_PROP_POS_FRAMES)))\n",
    "print(\"CAP_PROP_FRAME_COUNT : '{}'\".format(capture.get(cv2.CAP_PROP_FRAME_COUNT)))\n",
    "print(\"CAP_PROP_MODE : '{}'\".format(capture.get(cv2.CAP_PROP_MODE)))\n",
    "print(\"CAP_PROP_BRIGHTNESS : '{}'\".format(capture.get(cv2.CAP_PROP_BRIGHTNESS)))\n",
    "print(\"CAP_PROP_CONTRAST : '{}'\".format(capture.get(cv2.CAP_PROP_CONTRAST)))\n",
    "print(\"CAP_PROP_SATURATION : '{}'\".format(capture.get(cv2.CAP_PROP_SATURATION)))\n",
    "print(\"CAP_PROP_HUE : '{}'\".format(capture.get(cv2.CAP_PROP_HUE)))\n",
    "print(\"CAP_PROP_GAIN : '{}'\".format(capture.get(cv2.CAP_PROP_GAIN)))\n",
    "print(\"CAP_PROP_EXPOSURE : '{}'\".format(capture.get(cv2.CAP_PROP_EXPOSURE)))\n",
    "print(\"CAP_PROP_CONVERT_RGB : '{}'\".format(capture.get(cv2.CAP_PROP_CONVERT_RGB)))\n",
    "print(\"CAP_PROP_RECTIFICATION : '{}'\".format(capture.get(cv2.CAP_PROP_RECTIFICATION)))\n",
    "print(\"CAP_PROP_ISO_SPEED : '{}'\".format(capture.get(cv2.CAP_PROP_ISO_SPEED)))\n",
    "print(\"CAP_PROP_BUFFERSIZE : '{}'\".format(capture.get(cv2.CAP_PROP_BUFFERSIZE)))"
   ]
  },
  {
   "cell_type": "markdown",
   "metadata": {},
   "source": [
    "## Play video file backwards"
   ]
  },
  {
   "cell_type": "code",
   "execution_count": 10,
   "metadata": {},
   "outputs": [],
   "source": [
    "\n",
    "import sys\n",
    "import cv2 as cv\n",
    "import matplotlib.pyplot as plt\n",
    "\n",
    "# get the file path from command line\n",
    "# filePath = sys.argv[1]\n",
    "# get sample file path for \"starry_night.jpg\"\n",
    "filePath = \"../samples/data/vtest.avi\"\n",
    "\n",
    "capture = cv.VideoCapture(filePath)\n",
    "\n",
    "# check if connected\n",
    "if capture.isOpened() is False:\n",
    "    print(\"Error opening camera 0\")\n",
    "    exit()\n",
    "\n",
    "# get index of last frame\n",
    "frame_index = capture.get(cv.CAP_PROP_POS_FRAMES) - 1\n",
    "\n",
    "while capture.isOpened():\n",
    "    \n",
    "    # set the current frame position\n",
    "    capture.set(cv.CAP_PROP_POS_FRAMES, frame_index)\n",
    "\n",
    "    # capture frames, if read correctly ret is True\n",
    "    ret, frame = capture.read()\n",
    "\n",
    "    if not ret:\n",
    "        print(\"Didn't receive frame. Stop \")\n",
    "        break\n",
    "\n",
    "    # display frame\n",
    "    cv.imshow(\"Camera frame\", frame)\n",
    "\n",
    "    # decrement the index\n",
    "    frame_index = frame_index - 1\n",
    "\n",
    "    if frame_index == 0:\n",
    "        break;\n",
    "\n",
    "    k = cv.waitKey(10)\n",
    "\n",
    "    # check if key is q then exit\n",
    "    if k == ord(\"q\"):\n",
    "        break\n",
    "\n",
    "capture.release()\n",
    "cv.destroyAllWindows()\n",
    "\n",
    "\n",
    "\n",
    "\n"
   ]
  },
  {
   "cell_type": "markdown",
   "metadata": {},
   "source": [
    "# Assignment\n",
    "\n",
    "1. Create a video and attach border of different colour.\n",
    "2. Save the video\n",
    "3. Create a video player that can play any video file pass to it from any commandline."
   ]
  },
  {
   "cell_type": "code",
   "execution_count": null,
   "metadata": {},
   "outputs": [],
   "source": []
  }
 ],
 "metadata": {
  "interpreter": {
   "hash": "6f7c4d44365b28014734406e4d617c1e1f76ea196def854c7b951a230f6e24f1"
  },
  "kernelspec": {
   "display_name": "Python 3.9.5 64-bit",
   "name": "python3"
  },
  "language_info": {
   "codemirror_mode": {
    "name": "ipython",
    "version": 3
   },
   "file_extension": ".py",
   "mimetype": "text/x-python",
   "name": "python",
   "nbconvert_exporter": "python",
   "pygments_lexer": "ipython3",
   "version": "3.10.0"
  },
  "orig_nbformat": 4
 },
 "nbformat": 4,
 "nbformat_minor": 2
}
