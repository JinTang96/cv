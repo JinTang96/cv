{
 "cells": [
  {
   "cell_type": "code",
   "execution_count": null,
   "metadata": {},
   "outputs": [],
   "source": []
  },
  {
   "cell_type": "markdown",
   "metadata": {},
   "source": [
    "# Project \n",
    "\n",
    "**1. Develop an app that can :**\n",
    "   - Detect any shape in an image\n",
    "   - Count the total number of objects\n",
    "   - Sort the objects by size\n",
    "   - Sort the objects by shape\n",
    "   - Sort the objects by size then shape\n",
    "   - Sort the objects by shape then size\n",
    "   - Create another image of collection of similar shapes at original position   \n",
    "   seed=1\n",
    "\n",
    "\t\t- mahmudah\n",
    "\t\t- afik\n",
    "\t\t- saseendran\n",
    "\t\t- gavin   \n",
    "\t\n",
    "**2. Develop an app that can easily tell a combination of handwritten number images.**\n",
    "   - The number combination will randomly be selected from the test or data used for the train and testing the knn\n",
    "\t\t- azureen\n",
    "\t\t- inamul\n",
    "\t\t- numan\n",
    "\t\t- jincheng   \n",
    "\tseed=2\n",
    "\n",
    "\n",
    "**3. Develop an app that can recognize faces in an image and/or video.**\n",
    "   - Video file or live recording\n",
    "\t\t- mahmudah\n",
    "\t\t- azureen\n",
    "\t\t- afik\n",
    "\t\t- inamul\n",
    "\t\t- numan\n",
    "\t\t- saseendran\n",
    "\t\t- jincheng\n",
    "\t\t- gavin       \n",
    "\tseed=3\n",
    "\n",
    "Note:\n",
    "Apps in jupyter first, then convert to .py\n"
   ]
  },
  {
   "cell_type": "markdown",
   "metadata": {},
   "source": []
  }
 ],
 "metadata": {
  "language_info": {
   "name": "python"
  },
  "orig_nbformat": 4
 },
 "nbformat": 4,
 "nbformat_minor": 2
}
